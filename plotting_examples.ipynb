{
 "cells": [
  {
   "cell_type": "markdown",
   "id": "14ae25c9-02ea-4d94-af1f-891713f93b94",
   "metadata": {},
   "source": [
    "Plotting / Data Visualization\n",
    "==\n",
    "\n",
    "In the sciences we measure things.  Data visualization tools are critical to understanding and presenting our results.  This notebook and the accompanying code in the repository will review a number of common plotting tasks.  Gnuplot is handy for quick plotting of functions or to display tabulated data, but we will often want to include plot making into our own programs. This this is possible with Gnuplot, better options exist.  Two tools will be presented (1) the common Python [Matplotlib](https://matplotlib.org/) package and (2) the [ROOT](https://root.cern.ch/) data analysis framework which has common APIs for both C++ and Python ([PyROOT](https://root.cern/manual/python/)).  ROOT is primarily used in particle physics and is aimed at applications when very large datasets need to be analyzed.  In this class you can generally use whatever tools you prefer which may be influenced by your research group's tools and personal preferences.  However, there may be cases where some choice is simply better, so be careful not to limit yourself artifically and to keep an open mind to try new tools to find the best one for the job.  It's always a good thing to have more [tools](https://www.explainxkcd.com/wiki/index.php/2510:_Modern_Tools)!\n",
    "\n",
    "\n",
    "Before we begin here's a quick, very personal, view of the more generic Python approach versus using a dedicated analysis framework like ROOT.  Of course any number of tools can be combined when building your analysis workflows.  **It's a \"yes and ?\" not and \"either-or\" situation.**\n",
    "\n",
    "|  | Common Pythonverse | ROOT Framework |\n",
    "| --- | --- | --- |\n",
    "| Python compatibility | obviously! | yes |\n",
    "| C++ compatibility | WIP | native |\n",
    "| C/C++ bridging | ctypes/cppyy | internal cppyy | \n",
    "| ease of C++<=>Python data passing | good | excellent |\n",
    "| Plotting | matplotlib, etc | built in |\n",
    "| Data analysis integrated w/ plots | no | yes |\n",
    "| Special functions| scipy.special | built in |\n",
    "| minimizers/optimization | scipy.optimize | built in |\n",
    "| highly configurable fits| iminuit | built in minuit(2)/roofit |\n",
    "| integration/ode | scipy.integrate | built in / GSL or Boost |\n",
    "| statistical analysis | scipy.stats | built in |\n",
    "| data wrangling | pandas / numpy / uproot | built in |\n",
    "| standardization of interfaces | meh | very good |\n",
    "| stability of interfaces | improving | very good |\n",
    "\n",
    "The [Matlab](https://www.mathworks.com/products/matlab.html) framework includes a varierty of plotting and numerical analysis tools is used in many university course and in industry.  "
   ]
  },
  {
   "cell_type": "markdown",
   "id": "7fdd9009-b304-4b08-8b50-28586fa8cc8a",
   "metadata": {},
   "source": [
    "Import the python interfaces."
   ]
  },
  {
   "cell_type": "code",
   "execution_count": null,
   "id": "2df641dd-90be-49db-90ee-c1908dea2567",
   "metadata": {},
   "outputs": [
    {
     "ename": "",
     "evalue": "",
     "output_type": "error",
     "traceback": [
      "\u001b[1;31mFailed to start the Kernel. \n",
      "\u001b[1;31m\u001b[91m\u001b[1mERROR: \u001b[22m\u001b[39mArgumentError: Package IJulia not found in current path.\n",
      "\u001b[1;31m- Run `import Pkg; Pkg.add(\"IJulia\")` to install the IJulia package.\n",
      "\u001b[1;31mStacktrace:\n",
      "\u001b[1;31m [1] \u001b[0m\u001b[1mmacro expansion\u001b[22m\n",
      "\u001b[1;31m\u001b[90m   @\u001b[39m \u001b[90m./\u001b[39m\u001b[90m\u001b[4mloading.jl:2296\u001b[24m\u001b[39m\u001b[90m [inlined]\u001b[39m\n",
      "\u001b[1;31m [2] \u001b[0m\u001b[1mmacro expansion\u001b[22m\n",
      "\u001b[1;31m\u001b[90m   @\u001b[39m \u001b[90m./\u001b[39m\u001b[90m\u001b[4mlock.jl:273\u001b[24m\u001b[39m\u001b[90m [inlined]\u001b[39m\n",
      "\u001b[1;31m [3] \u001b[0m\u001b[1m__require\u001b[22m\u001b[0m\u001b[1m(\u001b[22m\u001b[90minto\u001b[39m::\u001b[0mModule, \u001b[90mmod\u001b[39m::\u001b[0mSymbol\u001b[0m\u001b[1m)\u001b[22m\n",
      "\u001b[1;31m\u001b[90m   @\u001b[39m \u001b[90mBase\u001b[39m \u001b[90m./\u001b[39m\u001b[90m\u001b[4mloading.jl:2271\u001b[24m\u001b[39m\n",
      "\u001b[1;31m [4] \u001b[0m\u001b[1m#invoke_in_world#3\u001b[22m\n",
      "\u001b[1;31m\u001b[90m   @\u001b[39m \u001b[90m./\u001b[39m\u001b[90m\u001b[4messentials.jl:1089\u001b[24m\u001b[39m\u001b[90m [inlined]\u001b[39m\n",
      "\u001b[1;31m [5] \u001b[0m\u001b[1minvoke_in_world\u001b[22m\n",
      "\u001b[1;31m\u001b[90m   @\u001b[39m \u001b[90m./\u001b[39m\u001b[90m\u001b[4messentials.jl:1086\u001b[24m\u001b[39m\u001b[90m [inlined]\u001b[39m\n",
      "\u001b[1;31m [6] \u001b[0m\u001b[1mrequire\u001b[22m\u001b[0m\u001b[1m(\u001b[22m\u001b[90minto\u001b[39m::\u001b[0mModule, \u001b[90mmod\u001b[39m::\u001b[0mSymbol\u001b[0m\u001b[1m)\u001b[22m\n",
      "\u001b[1;31m\u001b[90m   @\u001b[39m \u001b[90mBase\u001b[39m \u001b[90m./\u001b[39m\u001b[90m\u001b[4mloading.jl:2260\u001b[24m\u001b[39m. \n",
      "\u001b[1;31mView Jupyter <a href='command:jupyter.viewOutput'>log</a> for further details."
     ]
    }
   ],
   "source": [
    "import ROOT as r\n",
    "import numpy as np\n",
    "import matplotlib.pyplot as plt\n",
    "import random\n",
    "# the following makes static plots that are viewable in the github notebook renderer.  Comment this line for interactive root plots\n",
    "%jsroot off  "
   ]
  },
  {
   "cell_type": "markdown",
   "id": "7a54034b-ac90-4c38-9ecf-7a325f4a56b4",
   "metadata": {},
   "source": [
    "Simple Graphs\n",
    "===\n",
    "\n",
    "When you go through the examplex below, make sure to look up any functions/objects/methods that you are not familiar with.\n",
    "\n",
    "We begin with a simple graph in Matplotlib using the [plot method](https://matplotlib.org/stable/api/_as_gen/matplotlib.pyplot.plot.html).\n",
    "\n",
    "See also:\n",
    "* https://numpy.org/doc/stable/reference/random/generated/numpy.random.rand.html"
   ]
  },
  {
   "cell_type": "code",
   "execution_count": null,
   "id": "cc82eb4d-ab52-471a-9b56-ee4f57c29b7b",
   "metadata": {},
   "outputs": [],
   "source": [
    "# Generate some random data with associated error bars.\n",
    "x=np.arange(10,17,0.3)\n",
    "y=x.copy()+np.random.rand(len(x))\n",
    "yerr=np.abs(np.random.rand(len(x)))*0.5+0.1"
   ]
  },
  {
   "cell_type": "code",
   "execution_count": null,
   "id": "932e3229-fddd-4cd3-949c-7d5f1e468c77",
   "metadata": {},
   "outputs": [],
   "source": [
    "plt.title('My Graph')\n",
    "plt.xlabel('x')\n",
    "plt.ylabel('y')\n",
    "plt.plot(x,y);    # why do I use the optional ; here?"
   ]
  },
  {
   "cell_type": "markdown",
   "id": "59e6434f-35f4-47f9-a818-d5af984bd40e",
   "metadata": {},
   "source": [
    "The equivalent graph using in ROOT using its Python interface (PyROOT). \n",
    "\n",
    "See the [TGraph documentation](https://root.cern.ch/doc/master/classTGraph.html) or [here](https://github.com/cxx-hep/root-cern/blob/master/docbook/users-guide/Graphs.md) for Drawing options.  Here PyROOT is able to interpted the numpy arrays.  The reason we specify the length is that numpy arrays are not standard C++ opbjects.  The PyROOT interfaces is acessing the the location data stored in the computer memory.  The length parameter tells the C++ code how much data to read from that address.  Note that there a rem nya examples for ROOT and Matplotlib avaialble and LLMs are also great references for how to do things.  "
   ]
  },
  {
   "cell_type": "code",
   "execution_count": null,
   "id": "ff54de46-8b01-4d30-a33b-edcecefb0c80",
   "metadata": {},
   "outputs": [],
   "source": [
    "tg=r.TGraph(len(x),x,y)\n",
    "tc=r.TCanvas()  # create a canvas to hold the plot\n",
    "tg.SetTitle(\"My Graph;x;y\")\n",
    "tg.Draw(\"al\")  # draw the plot (on the active canvas)\n",
    "tc.Draw()       # draw the canvas"
   ]
  },
  {
   "cell_type": "markdown",
   "id": "fff395ec-78c3-43db-834b-68d3ccff1ab4",
   "metadata": {},
   "source": [
    "The use of canvases may seem like unnecessary extra work, but this allows us to very easily manage multiple plot windows in a single program.\n",
    "\n",
    "A big difference of the ROOT approach is that our plotting objects are also containers.  We can illustrade this by making the TGraph a different way.\n",
    "\n",
    "See also:\n",
    "* https://root.cern/doc/master/classTRandom.html\n",
    "* https://root.cern/doc/master/classTCanvas.html"
   ]
  },
  {
   "cell_type": "code",
   "execution_count": null,
   "id": "f0c1b245-07d4-4ce0-9b6f-43bcad962166",
   "metadata": {
    "tags": []
   },
   "outputs": [],
   "source": [
    "# Generate some random data with associated error bars.\n",
    "ndata=24\n",
    "xmin=10\n",
    "xstep=0.3\n",
    "rand=r.TRandom3()\n",
    "tg=r.TGraph()\n",
    "tg.SetTitle(\"My Graph;x;y\")\n",
    "for  i in range(ndata):\n",
    "    xi = xmin + i*xstep\n",
    "    yi = xi + rand.Uniform()\n",
    "    tg.SetPoint(i,xi,yi)\n",
    "tc=r.TCanvas()  # not really needed b/c tc already exists\n",
    "tg.SetLineWidth(2)\n",
    "tg.SetLineColor(r.kBlue)\n",
    "tg.SetMarkerStyle(r.kOpenSquare)  # https://root.cern.ch/doc/master/classTAttMarker.html\n",
    "tg.SetMarkerSize(2)\n",
    "tg.Draw(\"APL\")\n",
    "tc.Draw()"
   ]
  },
  {
   "cell_type": "markdown",
   "id": "e7429901-a130-4afc-be63-79b829ab18f8",
   "metadata": {},
   "source": [
    "Add error bars\n",
    "---\n",
    "\n",
    "In Matplotlib, we can use the [errorbar](https://matplotlib.org/stable/api/_as_gen/matplotlib.pyplot.errorbar.html) method to add errorbars."
   ]
  },
  {
   "cell_type": "code",
   "execution_count": null,
   "id": "bce687dd-103e-4272-b432-c6bcdec8203b",
   "metadata": {},
   "outputs": [],
   "source": [
    "plt.title('My Graph')\n",
    "plt.xlabel('x')\n",
    "plt.ylabel('y')\n",
    "plt.errorbar(x,y,yerr=yerr);"
   ]
  },
  {
   "cell_type": "markdown",
   "id": "676b96c8-c91a-44f2-99df-556b855f5518",
   "metadata": {},
   "source": [
    "The equivalent in ROOT is [TGraphErrors](https://root.cern.ch/doc/master/classTGraphErrors.html)"
   ]
  },
  {
   "cell_type": "code",
   "execution_count": null,
   "id": "1f7bd005-5d10-461f-a820-7eef7f54c494",
   "metadata": {},
   "outputs": [],
   "source": [
    "tge=r.TGraphErrors(len(x),x,y,0,yerr)\n",
    "tge.SetTitle(\"My Graph;x;y\")\n",
    "tge.Draw(\"al*\")\n",
    "tc.Draw()"
   ]
  },
  {
   "cell_type": "markdown",
   "id": "30843ca2-d554-4d76-9942-3cf0b722b7ed",
   "metadata": {},
   "source": [
    "The 1D histogram\n",
    "===\n",
    "\n",
    "We frequently use 1D histograms dispaly data distributions.  \n",
    "\n",
    "Matplotlib [histograms](https://matplotlib.org/stable/gallery/statistics/hist.html)\n",
    "---"
   ]
  },
  {
   "cell_type": "code",
   "execution_count": null,
   "id": "568ffd81-a0f0-4018-9906-41652bda4d76",
   "metadata": {},
   "outputs": [],
   "source": [
    "# Create a random number generator with a fixed seed for reproducibility\n",
    "rng = np.random.default_rng(19680801)\n",
    "\n",
    "N_points = 10000\n",
    "n_bins = 50\n",
    "mean=25\n",
    "sigma=5\n",
    "\n",
    "# Generate a normal distributions\n",
    "dist = rng.standard_normal(N_points)*sigma+mean\n",
    "\n",
    "# Set the number of bins with the *bins* keyword argument.\n",
    "plt.title('My Dist')\n",
    "plt.xlabel('x')\n",
    "plt.ylabel('Frequency')\n",
    "bins=plt.hist(dist, bins=n_bins);"
   ]
  },
  {
   "cell_type": "markdown",
   "id": "31461c91-3e91-4cd1-be0b-9fba34f3f097",
   "metadata": {},
   "source": [
    "ROOT [histograms](https://root.cern/manual/histograms/)\n",
    "---\n",
    "\n",
    "Histograms come in many flavors and dimensions in ROOT.  Here we will use the basic TH1F version.  This is a 1D histogram, where the contents of each bin is represented by a floating point number.  Other varieties exist, eg TH1D uses a double to represent bin content, TH1I uses an integer, etc.  "
   ]
  },
  {
   "cell_type": "code",
   "execution_count": null,
   "id": "92870a58-ed7c-484c-bb6c-3f2c0d8c249b",
   "metadata": {},
   "outputs": [],
   "source": [
    "# Create a random number generator with a fixed seed for reproducibility\n",
    "rand=r.TRandom3(123456)\n",
    "\n",
    "N_points = 10000\n",
    "n_bins = 50\n",
    "mean=25\n",
    "sigma=5\n",
    "xmin=0\n",
    "xmax=50\n",
    "\n",
    "h=r.TH1F(\"hname\",\"My Dist;x;Frequency\",n_bins,xmin,xmax)  # create a hitogram\n",
    "\n",
    "for i in range(N_points):   # fill this histogram\n",
    "    val = rand.Gaus(mean,sigma)    \n",
    "    h.Fill(val)\n",
    "h.Draw()\n",
    "tc.Draw()"
   ]
  },
  {
   "cell_type": "markdown",
   "id": "f68cbe93-0286-4526-86a4-eda99b9930be",
   "metadata": {},
   "source": [
    "Histograms with error bars\n",
    "---\n",
    "This is easy with ROOT.  Remember the plotting classes are containers, so they hold information about your data already.   "
   ]
  },
  {
   "cell_type": "code",
   "execution_count": null,
   "id": "4d8c1b4a-07e4-4ad0-80c0-498a18bad8c2",
   "metadata": {},
   "outputs": [],
   "source": [
    "h.Draw(\"errors\")  # or simply h.Draw(\"e\")\n",
    "tc.Draw()\n",
    "\n",
    "print(f\"mean = {h.GetMean()}\")\n",
    "print(f\"stddev = {h.GetStdDev()}\")\n"
   ]
  },
  {
   "cell_type": "markdown",
   "id": "1c954aca-21fe-4afb-9cf2-3f2b1ac55994",
   "metadata": {},
   "source": [
    "With Matplotlib we have to do all the calulcation for ourselves.  The hist method returns an arrays with the binned content and bin centers, we can use these to calculate error bars."
   ]
  },
  {
   "cell_type": "code",
   "execution_count": null,
   "id": "767c6c2e-1014-4f24-a42b-fa8a201b308a",
   "metadata": {},
   "outputs": [],
   "source": [
    "#bins=plt.hist(dist, bins=n_bins)\n",
    "yb=bins[0]  # bin edges!\n",
    "xb=bins[1]  # bin contents\n",
    "err=np.sqrt(yb)\n",
    "#Calculate bin centers (you can probably find a smarter way to do this!)\n",
    "bc=(xb[1:]-xb[:-1])/2+xb[:-1]\n",
    "plt.title('My Dist')\n",
    "plt.xlabel('x')\n",
    "plt.ylabel('Frequency')\n",
    "plt.errorbar(bc, yb, yerr=err, fmt=\".\", color=\"r\")\n",
    "print(f\"mean = {np.mean(dist)}\")\n",
    "print(f\"stddev = {np.std(dist)}\")"
   ]
  },
  {
   "cell_type": "markdown",
   "id": "a6c2031d-2ee9-4534-adf5-f1bd88ba7aec",
   "metadata": {},
   "source": [
    "Discussion\n",
    "---\n",
    "\n",
    "Storing your data in histograms can greatly reduce data volumes.  For example if you generated $10^{12}$ random numbers multiple times for different distributions, you really won't want to be dealing with these huge vectors more than you have to.  A histogram of 200 bins would only require 200 floats, etc to store/display the binned data."
   ]
  },
  {
   "cell_type": "markdown",
   "id": "1e558bd5-b634-49c0-8ba8-0550c094d1c7",
   "metadata": {},
   "source": [
    "Exercise\n",
    "===\n",
    "\n",
    "There are endless varieties of plots that we can discuss.  This exercise will include a number of exerises for plotting data and distributions in a variety of ways.  The goal is to practice plot making and using online documenation and examples to get more proficient at displaying data.  You may use either Matplotlib or ROOT.  You should discuss your approaches with your classmates.  Complete your plots in the notebook cells below."
   ]
  },
  {
   "cell_type": "markdown",
   "id": "3f500752-41ad-4f94-89e5-c40522d65d9c",
   "metadata": {},
   "source": [
    "plotting 1d functions\n",
    "---\n",
    "\n",
    "Plot the functions sin(x), cos(x) over the domain [0:4*pi] on a single plot.  See [TF1](https://root.cern.ch/doc/master/classTF1.html) or [matplotlib.pyplot.plot](https://matplotlib.org/stable/api/_as_gen/matplotlib.pyplot.plot.html)"
   ]
  },
  {
   "cell_type": "code",
   "execution_count": null,
   "id": "2b002e77-7cca-4290-8eb9-78bb1613c524",
   "metadata": {},
   "outputs": [],
   "source": [
    "# solution here"
   ]
  },
  {
   "cell_type": "markdown",
   "id": "5fe692f4-0326-438d-a171-7773b2db0a72",
   "metadata": {},
   "source": [
    "Plot the functions sin(x), cos(x) over the domain [0:4*pi], but use two 'frames' such that the sign function is in the top frame and the cos function is in the bottom frame"
   ]
  },
  {
   "cell_type": "code",
   "execution_count": null,
   "id": "22b2b5d7-fcde-4ccc-be1b-06c14971c142",
   "metadata": {},
   "outputs": [],
   "source": [
    "# solution here"
   ]
  },
  {
   "cell_type": "markdown",
   "id": "b9ee8a11-f3c4-473e-af9a-b06495d3e34d",
   "metadata": {},
   "source": [
    "plotting 2d functions \n",
    "---\n",
    "\n",
    "plot the following function over the domain x: [-5:5] y: [-5:5]\n",
    "\n",
    "$f(x,y) = -20.0 * exp(-0.2 * \\sqrt{0.5 * (x^2 + y^2)}) - exp(0.5 * (cos(2 * pi * x) + cos(2 * pi * y))) + e + 20$\n",
    "\n",
    "Here e is Euler's number = exp(1)\n",
    "\n",
    "Use two plot panels.  In the upper panel display your plot as a color map.  In the lower panel display your plot as a lego plot."
   ]
  },
  {
   "cell_type": "code",
   "execution_count": null,
   "id": "05e089a2-6a75-4c19-8d86-7e770971e68f",
   "metadata": {},
   "outputs": [],
   "source": [
    "# solution here"
   ]
  },
  {
   "cell_type": "markdown",
   "id": "f6307cc3-c53f-4184-af3a-b80f84f028e7",
   "metadata": {},
   "source": [
    "1D histograms\n",
    "---\n",
    "\n",
    "Generate three sets of 1000 random numbers:\n",
    "- set1 = Normal distribution with mean of 5.0 and stdev of sqrt(5)\n",
    "- set2 = Poisson distribution with mean of 5.0\n",
    "- set3 = binomial distribution for (n=10, p=0.5)\n",
    "\n",
    "Display all of these histograms on a single plot.  Clearly labeling your data."
   ]
  },
  {
   "cell_type": "code",
   "execution_count": null,
   "id": "342a39f5-fdf9-4eb8-8f04-3e23399b880c",
   "metadata": {},
   "outputs": [],
   "source": [
    "# solution here"
   ]
  },
  {
   "cell_type": "markdown",
   "id": "7af0c817-a27e-4a1b-9155-f71f583c9564",
   "metadata": {},
   "source": [
    "repeat with\n",
    "\n",
    "- set1 = Normal distribution with mean of 10.0 and stdev of sqrt(10)\n",
    "- set2 = Poisson distribution with mean of 10.0\n",
    "- set3 = binomial distribution for (n=20, p=0.5)"
   ]
  },
  {
   "cell_type": "markdown",
   "id": "ce7c8660-ec43-4a44-b547-6b798b7997ff",
   "metadata": {},
   "source": [
    "Generate at least 10000 random numbers according to a Normal distribution the mean=100 and stdev=10.  Plot the results in  a histogram, then overlay the functional form of the Normal distribution with your data.  Be careful to think about the correct noemallization of the Gaussian curve.  This will depend on the number of events you generate and the size of your bins."
   ]
  },
  {
   "cell_type": "code",
   "execution_count": null,
   "id": "f8bd9585-d16c-4285-bd1c-3ae7407f77be",
   "metadata": {},
   "outputs": [],
   "source": [
    "# solution here"
   ]
  },
  {
   "cell_type": "markdown",
   "id": "cf263b7d-2701-4a9d-a959-3f3de42e37ab",
   "metadata": {},
   "source": [
    "Repeat, but show errors bars on your histogram along with the functional form overlay."
   ]
  },
  {
   "cell_type": "markdown",
   "id": "3d02ab35-6a08-4240-80cc-8d6749d5fa3a",
   "metadata": {},
   "source": [
    "2D histograms\n",
    "---\n",
    "\n",
    "Generate a set of random numbers in pairs, according to the following:\n",
    "\n",
    "- x_i is drawn from a Normal distribution with mean of 100, and sigma of 15, eg Gaussian(100,15)\n",
    "- y_i = Gaussian (x_i,5), eg y is correlated with x\n",
    "\n",
    "Begin by making a 2d color map (aka heat map) plot showing the density distribution.  Generate enough numbers to make the plot reasonably smooth.\n",
    "\n",
    "Use two plot panels.  In the upper panel display your plot as a color map.  In the lower panel display your plot as a lego plot."
   ]
  },
  {
   "cell_type": "code",
   "execution_count": null,
   "id": "c42bab7b-1157-4b29-bc11-effebb93ed09",
   "metadata": {},
   "outputs": [],
   "source": [
    "# solution here"
   ]
  }
 ],
 "metadata": {
  "kernelspec": {
   "display_name": "Python 3",
   "language": "python",
   "name": "python3"
  },
  "language_info": {
   "codemirror_mode": {
    "name": "ipython",
    "version": 3
   },
   "file_extension": ".py",
   "mimetype": "text/x-python",
   "name": "python",
   "nbconvert_exporter": "python",
   "pygments_lexer": "ipython3",
   "version": "3.11.11"
  }
 },
 "nbformat": 4,
 "nbformat_minor": 5
}
