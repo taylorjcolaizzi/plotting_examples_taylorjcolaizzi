{
 "cells": [
  {
   "cell_type": "markdown",
   "id": "14ae25c9-02ea-4d94-af1f-891713f93b94",
   "metadata": {},
   "source": [
    "Plotting / Data Visualization\n",
    "==\n",
    "\n",
    "In the sciences we measure things.  Data visualization tools are critical to understanding and presenting our results.  This notebook and the accompanying code in the repository will review a number of common plotting tasks.  Gnuplot is handy for quick plotting of functions or to display tabulated data, but we will often want to include plot making into our own programs. This this is possible with Gnuplot, better options exist.  Two tools will be presented (1) the common Python [Matplotlib](https://matplotlib.org/) package and (2) the [ROOT](https://root.cern.ch/) data analysis framework which has common APIs for both C++ and Python ([PyROOT](https://root.cern/manual/python/)).  ROOT is primarily used in particle physics and is aimed at applications when very large datasets need to be analyzed.  In this class you can generally use whatever tools you prefer which may be influenced by your research group's tools and personal preferences.  However, there may be cases where some choice is simply better, so be careful not to limit yourself artifically and to keep an open mind to try new tools to find the best one for the job.  It's always a good thing to have more [tools](https://www.explainxkcd.com/wiki/index.php/2510:_Modern_Tools)!\n",
    "\n",
    "\n",
    "Before we begin here's a quick, very personal, view of the more generic Python approach versus using a dedicated analysis framework like ROOT.  Of course any number of tools can be combined when building your analysis workflows.  **It's a \"yes and ?\" not and \"either-or\" situation.**\n",
    "\n",
    "|  | Common Pythonverse | ROOT Framework |\n",
    "| --- | --- | --- |\n",
    "| Python compatibility | obviously! | yes |\n",
    "| C++ compatibility | WIP | native |\n",
    "| C/C++ bridging | ctypes/cppyy | internal cppyy | \n",
    "| ease of C++<=>Python data passing | good | excellent |\n",
    "| Plotting | matplotlib, etc | built in |\n",
    "| Data analysis integrated w/ plots | no | yes |\n",
    "| Special functions| scipy.special | built in |\n",
    "| minimizers/optimization | scipy.optimize | built in |\n",
    "| highly configurable fits| iminuit | built in minuit(2)/roofit |\n",
    "| integration/ode | scipy.integrate | built in / GSL or Boost |\n",
    "| statistical analysis | scipy.stats | built in |\n",
    "| data wrangling | pandas / numpy / uproot | built in |\n",
    "| standardization of interfaces | meh | very good |\n",
    "| stability of interfaces | improving | very good |\n",
    "\n",
    "The [Matlab](https://www.mathworks.com/products/matlab.html) framework includes a varierty of plotting and numerical analysis tools is used in many university course and in industry.  "
   ]
  },
  {
   "cell_type": "markdown",
   "id": "7fdd9009-b304-4b08-8b50-28586fa8cc8a",
   "metadata": {},
   "source": [
    "Import the python interfaces."
   ]
  },
  {
   "cell_type": "code",
<<<<<<< HEAD
   "execution_count": null,
   "id": "2df641dd-90be-49db-90ee-c1908dea2567",
   "metadata": {},
   "outputs": [
    {
     "ename": "",
     "evalue": "",
     "output_type": "error",
     "traceback": [
      "\u001b[1;31mFailed to start the Kernel. \n",
      "\u001b[1;31m\u001b[91m\u001b[1mERROR: \u001b[22m\u001b[39mArgumentError: Package IJulia not found in current path.\n",
      "\u001b[1;31m- Run `import Pkg; Pkg.add(\"IJulia\")` to install the IJulia package.\n",
      "\u001b[1;31mStacktrace:\n",
      "\u001b[1;31m [1] \u001b[0m\u001b[1mmacro expansion\u001b[22m\n",
      "\u001b[1;31m\u001b[90m   @\u001b[39m \u001b[90m./\u001b[39m\u001b[90m\u001b[4mloading.jl:2296\u001b[24m\u001b[39m\u001b[90m [inlined]\u001b[39m\n",
      "\u001b[1;31m [2] \u001b[0m\u001b[1mmacro expansion\u001b[22m\n",
      "\u001b[1;31m\u001b[90m   @\u001b[39m \u001b[90m./\u001b[39m\u001b[90m\u001b[4mlock.jl:273\u001b[24m\u001b[39m\u001b[90m [inlined]\u001b[39m\n",
      "\u001b[1;31m [3] \u001b[0m\u001b[1m__require\u001b[22m\u001b[0m\u001b[1m(\u001b[22m\u001b[90minto\u001b[39m::\u001b[0mModule, \u001b[90mmod\u001b[39m::\u001b[0mSymbol\u001b[0m\u001b[1m)\u001b[22m\n",
      "\u001b[1;31m\u001b[90m   @\u001b[39m \u001b[90mBase\u001b[39m \u001b[90m./\u001b[39m\u001b[90m\u001b[4mloading.jl:2271\u001b[24m\u001b[39m\n",
      "\u001b[1;31m [4] \u001b[0m\u001b[1m#invoke_in_world#3\u001b[22m\n",
      "\u001b[1;31m\u001b[90m   @\u001b[39m \u001b[90m./\u001b[39m\u001b[90m\u001b[4messentials.jl:1089\u001b[24m\u001b[39m\u001b[90m [inlined]\u001b[39m\n",
      "\u001b[1;31m [5] \u001b[0m\u001b[1minvoke_in_world\u001b[22m\n",
      "\u001b[1;31m\u001b[90m   @\u001b[39m \u001b[90m./\u001b[39m\u001b[90m\u001b[4messentials.jl:1086\u001b[24m\u001b[39m\u001b[90m [inlined]\u001b[39m\n",
      "\u001b[1;31m [6] \u001b[0m\u001b[1mrequire\u001b[22m\u001b[0m\u001b[1m(\u001b[22m\u001b[90minto\u001b[39m::\u001b[0mModule, \u001b[90mmod\u001b[39m::\u001b[0mSymbol\u001b[0m\u001b[1m)\u001b[22m\n",
      "\u001b[1;31m\u001b[90m   @\u001b[39m \u001b[90mBase\u001b[39m \u001b[90m./\u001b[39m\u001b[90m\u001b[4mloading.jl:2260\u001b[24m\u001b[39m. \n",
      "\u001b[1;31mView Jupyter <a href='command:jupyter.viewOutput'>log</a> for further details."
     ]
    }
   ],
=======
   "execution_count": 1,
   "id": "2df641dd-90be-49db-90ee-c1908dea2567",
   "metadata": {
    "tags": []
   },
   "outputs": [],
>>>>>>> f6591fafeae33dc5747306d5ea480c32b3f95c73
   "source": [
    "import ROOT as r\n",
    "import numpy as np\n",
    "import matplotlib.pyplot as plt\n",
    "import random\n",
    "import math\n",
    "# the following makes static plots that are viewable in the github notebook renderer.  Comment this line for interactive root plots\n",
    "%jsroot off  "
   ]
  },
  {
   "cell_type": "markdown",
   "id": "7a54034b-ac90-4c38-9ecf-7a325f4a56b4",
   "metadata": {},
   "source": [
    "Simple Graphs\n",
    "===\n",
    "\n",
    "When you go through the examplex below, make sure to look up any functions/objects/methods that you are not familiar with.\n",
    "\n",
    "We begin with a simple graph in Matplotlib using the [plot method](https://matplotlib.org/stable/api/_as_gen/matplotlib.pyplot.plot.html).\n",
    "\n",
    "See also:\n",
    "* https://numpy.org/doc/stable/reference/random/generated/numpy.random.rand.html"
   ]
  },
  {
   "cell_type": "code",
<<<<<<< HEAD
   "execution_count": null,
=======
   "execution_count": 2,
>>>>>>> f6591fafeae33dc5747306d5ea480c32b3f95c73
   "id": "cc82eb4d-ab52-471a-9b56-ee4f57c29b7b",
   "metadata": {},
   "outputs": [],
   "source": [
    "# Generate some random data with associated error bars.\n",
    "x=np.arange(10,17,0.3)\n",
    "y=x.copy()+np.random.rand(len(x))\n",
    "yerr=np.abs(np.random.rand(len(x)))*0.5+0.1"
   ]
  },
  {
   "cell_type": "code",
<<<<<<< HEAD
   "execution_count": null,
   "id": "932e3229-fddd-4cd3-949c-7d5f1e468c77",
   "metadata": {},
   "outputs": [],
=======
   "execution_count": 3,
   "id": "932e3229-fddd-4cd3-949c-7d5f1e468c77",
   "metadata": {},
   "outputs": [
    {
     "data": {
      "image/png": "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",
      "text/plain": [
       "<Figure size 640x480 with 1 Axes>"
      ]
     },
     "metadata": {},
     "output_type": "display_data"
    }
   ],
>>>>>>> f6591fafeae33dc5747306d5ea480c32b3f95c73
   "source": [
    "plt.title('My Graph')\n",
    "plt.xlabel('x')\n",
    "plt.ylabel('y')\n",
    "plt.plot(x,y);    # why do I use the optional ; here?\n",
    "\n",
    "# The purpose of the \";\" at the end of the plotting command is to \"suppress the output\". Honestly, this is the same syntax as MATLAB, which is where matplotlib\n",
    "# gets its inspiration from. The semicolon is not necessary, but it makes sure that all you see is the plot instead of the plot and a printout showing the line\n",
    "# objects that created the plot."
   ]
  },
  {
   "cell_type": "markdown",
   "id": "59e6434f-35f4-47f9-a818-d5af984bd40e",
   "metadata": {},
   "source": [
    "The equivalent graph using in ROOT using its Python interface (PyROOT). \n",
    "\n",
    "See the [TGraph documentation](https://root.cern.ch/doc/master/classTGraph.html) or [here](https://github.com/cxx-hep/root-cern/blob/master/docbook/users-guide/Graphs.md) for Drawing options.  Here PyROOT is able to interpted the numpy arrays.  The reason we specify the length is that numpy arrays are not standard C++ opbjects.  The PyROOT interfaces is acessing the the location data stored in the computer memory.  The length parameter tells the C++ code how much data to read from that address.  Note that there a rem nya examples for ROOT and Matplotlib avaialble and LLMs are also great references for how to do things.  "
   ]
  },
  {
   "cell_type": "code",
<<<<<<< HEAD
   "execution_count": null,
   "id": "ff54de46-8b01-4d30-a33b-edcecefb0c80",
   "metadata": {},
   "outputs": [],
=======
   "execution_count": 4,
   "id": "ff54de46-8b01-4d30-a33b-edcecefb0c80",
   "metadata": {},
   "outputs": [
    {
     "data": {
      "image/png": "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",
      "text/plain": [
       "<IPython.core.display.Image object>"
      ]
     },
     "metadata": {},
     "output_type": "display_data"
    }
   ],
>>>>>>> f6591fafeae33dc5747306d5ea480c32b3f95c73
   "source": [
    "tg=r.TGraph(len(x),x,y) # remember that r stands for ROOT library. make a tgraph object\n",
    "tc=r.TCanvas()  # create a canvas to hold the plot. make a separate tcanvas object\n",
    "tg.SetTitle(\"My Graph;x;y\") # give the graph a name\n",
    "tg.Draw(\"al\")  # draw the plot (on the active canvas). #al# means to draw axes \"A\" and then simple line plot \"L\"\n",
    "tc.Draw()       # draw the canvas. Now, show the canvas with the plot."
   ]
  },
  {
   "cell_type": "markdown",
   "id": "fff395ec-78c3-43db-834b-68d3ccff1ab4",
   "metadata": {},
   "source": [
    "The use of canvases may seem like unnecessary extra work, but this allows us to very easily manage multiple plot windows in a single program.\n",
    "\n",
    "A big difference of the ROOT approach is that our plotting objects are also containers.  We can illustrade this by making the TGraph a different way.\n",
    "\n",
    "See also:\n",
    "* https://root.cern/doc/master/classTRandom.html\n",
    "* https://root.cern/doc/master/classTCanvas.html"
   ]
  },
  {
   "cell_type": "code",
<<<<<<< HEAD
   "execution_count": null,
=======
   "execution_count": 5,
>>>>>>> f6591fafeae33dc5747306d5ea480c32b3f95c73
   "id": "f0c1b245-07d4-4ce0-9b6f-43bcad962166",
   "metadata": {
    "tags": []
   },
<<<<<<< HEAD
   "outputs": [],
=======
   "outputs": [
    {
     "data": {
      "image/png": "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",
      "text/plain": [
       "<IPython.core.display.Image object>"
      ]
     },
     "metadata": {},
     "output_type": "display_data"
    }
   ],
>>>>>>> f6591fafeae33dc5747306d5ea480c32b3f95c73
   "source": [
    "# Generate some random data with associated error bars.\n",
    "ndata=24\n",
    "xmin=10\n",
    "xstep=0.3\n",
    "rand=r.TRandom3() # basically just creates a random number generator object.\n",
    "tg=r.TGraph()\n",
    "tg.SetTitle(\"My Graph;x;y\")\n",
    "for  i in range(ndata): # gonna loop 24 times, from 0 to 23. \n",
    "    xi = xmin + i*xstep # basically doing np.arange but you tell it how many to do in ndata.\n",
    "    yi = xi + rand.Uniform() # uses earlier RNG with uniform distribution between [1,0)\n",
    "    tg.SetPoint(i,xi,yi) # plot a point. i is number, xi and yi are a coordinate pair\n",
    "tc=r.TCanvas()  # not really needed b/c tc already exists # I guess make a new canvas or something\n",
    "tg.SetLineWidth(2) # just setting some parameters for good looking plot\n",
    "tg.SetLineColor(r.kBlue)\n",
    "tg.SetMarkerStyle(r.kOpenSquare)  # https://root.cern.ch/doc/master/classTAttMarker.html #literal marker is a square\n",
    "tg.SetMarkerSize(2)\n",
    "tg.Draw(\"APL\") # draw axes, points, then line. for the GRAPH\n",
    "tc.Draw() # draw everything for the CANVAS (how you visualize it)"
   ]
  },
  {
   "cell_type": "markdown",
   "id": "e7429901-a130-4afc-be63-79b829ab18f8",
   "metadata": {},
   "source": [
    "Add error bars\n",
    "---\n",
    "\n",
    "In Matplotlib, we can use the [errorbar](https://matplotlib.org/stable/api/_as_gen/matplotlib.pyplot.errorbar.html) method to add errorbars."
   ]
  },
  {
   "cell_type": "code",
<<<<<<< HEAD
   "execution_count": null,
   "id": "bce687dd-103e-4272-b432-c6bcdec8203b",
   "metadata": {},
   "outputs": [],
=======
   "execution_count": 6,
   "id": "bce687dd-103e-4272-b432-c6bcdec8203b",
   "metadata": {},
   "outputs": [
    {
     "data": {
      "image/png": "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",
      "text/plain": [
       "<Figure size 640x480 with 1 Axes>"
      ]
     },
     "metadata": {},
     "output_type": "display_data"
    }
   ],
>>>>>>> f6591fafeae33dc5747306d5ea480c32b3f95c73
   "source": [
    "plt.title('My Graph') # note that we're going back to python, not ROOT.\n",
    "plt.xlabel('x')\n",
    "plt.ylabel('y')\n",
    "plt.errorbar(x,y,yerr=yerr); # literally, errorbar makes a lineplot with the error bars specified"
   ]
  },
  {
   "cell_type": "markdown",
   "id": "676b96c8-c91a-44f2-99df-556b855f5518",
   "metadata": {},
   "source": [
    "The equivalent in ROOT is [TGraphErrors](https://root.cern.ch/doc/master/classTGraphErrors.html)"
   ]
  },
  {
   "cell_type": "code",
<<<<<<< HEAD
   "execution_count": null,
   "id": "1f7bd005-5d10-461f-a820-7eef7f54c494",
   "metadata": {},
   "outputs": [],
=======
   "execution_count": 7,
   "id": "1f7bd005-5d10-461f-a820-7eef7f54c494",
   "metadata": {},
   "outputs": [
    {
     "data": {
      "image/png": "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",
      "text/plain": [
       "<IPython.core.display.Image object>"
      ]
     },
     "metadata": {},
     "output_type": "display_data"
    }
   ],
>>>>>>> f6591fafeae33dc5747306d5ea480c32b3f95c73
   "source": [
    "tge=r.TGraphErrors(len(x),x,y,0,yerr) # the 0 is likely the x-axis errors, but we don't have any so make it zero. len, x, y, xerr, yerr is syntax\n",
    "tge.SetTitle(\"My Graph;x;y\")\n",
    "tge.Draw(\"al*\") # star is to make each point a star. it's the marker\n",
    "tc.Draw() # now you can see it"
   ]
  },
  {
   "cell_type": "markdown",
   "id": "30843ca2-d554-4d76-9942-3cf0b722b7ed",
   "metadata": {},
   "source": [
    "The 1D histogram\n",
    "===\n",
    "\n",
    "We frequently use 1D histograms dispaly data distributions.  \n",
    "\n",
    "Matplotlib [histograms](https://matplotlib.org/stable/gallery/statistics/hist.html)\n",
    "---"
   ]
  },
  {
   "cell_type": "code",
<<<<<<< HEAD
   "execution_count": null,
   "id": "568ffd81-a0f0-4018-9906-41652bda4d76",
   "metadata": {},
   "outputs": [],
=======
   "execution_count": 8,
   "id": "568ffd81-a0f0-4018-9906-41652bda4d76",
   "metadata": {},
   "outputs": [
    {
     "data": {
      "image/png": "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",
      "text/plain": [
       "<Figure size 640x480 with 1 Axes>"
      ]
     },
     "metadata": {},
     "output_type": "display_data"
    }
   ],
>>>>>>> f6591fafeae33dc5747306d5ea480c32b3f95c73
   "source": [
    "# Create a random number generator with a fixed seed for reproducibility\n",
    "rng = np.random.default_rng(19680801) # seed is random if blank\n",
    "\n",
    "N_points = 10000 # deciding parameters for our distribution later on\n",
    "n_bins = 50\n",
    "mean=25\n",
    "sigma=5\n",
    "\n",
    "# Generate a normal distributions\n",
    "dist = rng.standard_normal(N_points)*sigma+mean #standard_normal has mean 0 and stdev 1.\n",
    "# or could just do rng.normal(mean, sigma, size = N_points)\n",
    "\n",
    "# Set the number of bins with the *bins* keyword argument.\n",
    "plt.title('My Dist')\n",
    "plt.xlabel('x')\n",
    "plt.ylabel('Frequency')\n",
    "bins=plt.hist(dist, bins=n_bins); # just plotting a histogram. dist is just a list of numbers."
   ]
  },
  {
   "cell_type": "markdown",
   "id": "31461c91-3e91-4cd1-be0b-9fba34f3f097",
   "metadata": {},
   "source": [
    "ROOT [histograms](https://root.cern/manual/histograms/)\n",
    "---\n",
    "\n",
    "Histograms come in many flavors and dimensions in ROOT.  Here we will use the basic TH1F version.  This is a 1D histogram, where the contents of each bin is represented by a floating point number.  Other varieties exist, eg TH1D uses a double to represent bin content, TH1I uses an integer, etc.  "
   ]
  },
  {
   "cell_type": "code",
<<<<<<< HEAD
   "execution_count": null,
   "id": "92870a58-ed7c-484c-bb6c-3f2c0d8c249b",
   "metadata": {},
   "outputs": [],
=======
   "execution_count": 9,
   "id": "92870a58-ed7c-484c-bb6c-3f2c0d8c249b",
   "metadata": {},
   "outputs": [
    {
     "data": {
      "image/png": "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",
      "text/plain": [
       "<IPython.core.display.Image object>"
      ]
     },
     "metadata": {},
     "output_type": "display_data"
    }
   ],
>>>>>>> f6591fafeae33dc5747306d5ea480c32b3f95c73
   "source": [
    "# Create a random number generator with a fixed seed for reproducibility\n",
    "rand=r.TRandom3(123456) # again adding an optional seed\n",
    "\n",
    "N_points = 10000\n",
    "n_bins = 50\n",
    "mean=25\n",
    "sigma=5\n",
    "xmin=0 # need limits to cut off the distribution. It could go on forever?\n",
    "xmax=50\n",
    "\n",
    "h=r.TH1F(\"hname\",\"My Dist;x;Frequency\",n_bins,xmin,xmax)  # create a hitogram\n",
    "\n",
    "for i in range(N_points):   # fill this histogram\n",
    "    val = rand.Gaus(mean,sigma)    # looks like you make a random number from the Gaussian distribution with mean and sigma. Then, throw it into the histogram!\n",
    "    h.Fill(val)\n",
    "h.Draw()\n",
    "tc.Draw()"
   ]
  },
  {
   "cell_type": "markdown",
   "id": "f68cbe93-0286-4526-86a4-eda99b9930be",
   "metadata": {},
   "source": [
    "Histograms with error bars\n",
    "---\n",
    "This is easy with ROOT.  Remember the plotting classes are containers, so they hold information about your data already.   "
   ]
  },
  {
   "cell_type": "code",
<<<<<<< HEAD
   "execution_count": null,
   "id": "4d8c1b4a-07e4-4ad0-80c0-498a18bad8c2",
   "metadata": {},
   "outputs": [],
=======
   "execution_count": 10,
   "id": "4d8c1b4a-07e4-4ad0-80c0-498a18bad8c2",
   "metadata": {},
   "outputs": [
    {
     "name": "stdout",
     "output_type": "stream",
     "text": [
      "mean = 25.104828341969714\n",
      "stddev = 5.0065205283571075\n"
     ]
    },
    {
     "data": {
      "image/png": "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",
      "text/plain": [
       "<IPython.core.display.Image object>"
      ]
     },
     "metadata": {},
     "output_type": "display_data"
    }
   ],
>>>>>>> f6591fafeae33dc5747306d5ea480c32b3f95c73
   "source": [
    "h.Draw(\"errors\")  # or simply h.Draw(\"e\") # just plotting errors, no lines!\n",
    "tc.Draw()\n",
    "\n",
    "print(f\"mean = {h.GetMean()}\")\n",
    "print(f\"stddev = {h.GetStdDev()}\") # using the classic python f string\n"
   ]
  },
  {
   "cell_type": "markdown",
   "id": "1c954aca-21fe-4afb-9cf2-3f2b1ac55994",
   "metadata": {},
   "source": [
    "With Matplotlib we have to do all the calulcation for ourselves.  The hist method returns an arrays with the binned content and bin centers, we can use these to calculate error bars."
   ]
  },
  {
   "cell_type": "code",
<<<<<<< HEAD
   "execution_count": null,
   "id": "767c6c2e-1014-4f24-a42b-fa8a201b308a",
   "metadata": {},
   "outputs": [],
=======
   "execution_count": 11,
   "id": "767c6c2e-1014-4f24-a42b-fa8a201b308a",
   "metadata": {},
   "outputs": [
    {
     "name": "stdout",
     "output_type": "stream",
     "text": [
      "mean = 25.00670383701274\n",
      "stddev = 4.9277044966439165\n"
     ]
    },
    {
     "data": {
      "image/png": "iVBORw0KGgoAAAANSUhEUgAAAjsAAAHFCAYAAAAUpjivAAAAOXRFWHRTb2Z0d2FyZQBNYXRwbG90bGliIHZlcnNpb24zLjkuMiwgaHR0cHM6Ly9tYXRwbG90bGliLm9yZy8hTgPZAAAACXBIWXMAAA9hAAAPYQGoP6dpAAA6PUlEQVR4nO3de3RU5b3/8c/kKoRkykUyhMQ0NaECAWuhIugpIBCqAqKngiI1aOoPK6akQG2p7RG7PARxFayiiIrcPJrVVunRFi0IIYqUc5CLcunBUAMmkDStjbkBCSbP7480EyYkZDKZZM/svF9r7eXM3s9MvttNZj7Z+9nP4zDGGAEAANhUiNUFAAAAdCbCDgAAsDXCDgAAsDXCDgAAsDXCDgAAsDXCDgAAsDXCDgAAsDXCDgAAsDXCDgAAsDXCDoAus379ejkcDjkcDu3cufOi7cYYJScny+FwaNy4cX77uV/96lfdPzckJEROp1ODBw/WPffco61bt7b4GofDoSVLlrTr52zZsqXdrwHQ+Qg7ALpcdHS01q5de9H6vLw8/fWvf1V0dLTff+b111+vP//5z9q9e7def/11PfTQQyooKNDkyZP13e9+V+fPn/do/+c//1nf//732/UztmzZoscee8yfZQPwA8IOgC43c+ZMvf7666qoqPBYv3btWo0ePVpXXHGF33/mV77yFV133XW67rrrNHHiRM2bN0/vv/++Hn30Ub3++uv6+c9/7tH+uuuuU3x8vN/rAND1CDsAutxdd90lSXrttdfc68rLy/X666/rvvvu82hrjFFKSoomT5580ftUVVXJ6XRq3rx5PteyZMkSDR06VKtWrdK5c+fc65tfxjpz5owWLVqkpKQkXXbZZerTp49Gjhzp3oc5c+bo2Wefdb+2cTlx4oTPtQHwD8IOgC4XExOj7373u3r55Zfd61577TWFhIRo5syZHm0dDocyMzO1bds25efne2zbuHGjKioqOhR2JGnq1Kk6c+aMPvzww1bbLFiwQKtXr9YPf/hDvfPOO9q0aZPuuOMOff7555KkX/ziF/rud78rqeESWOMyYMCADtUGoOPCrC4AQPd03333afz48Tpy5IiGDh2ql19+WXfccUeL/XXuvfde/fznP9ezzz6rp556yr3+2Wef1fjx4zVkyJAO1ZKYmChJOn36dKttPvjgA6WlpelHP/qRe90tt9zifnzllVcqNjZWUsMlMACBgzM7ACwxduxYXXnllXr55Zd16NAh7d2796JLWI2io6N17733av369aqurpYk7dixQ0ePHtVDDz3U4VqMMW22ufbaa/X222/rpz/9qXbu3KmzZ892+OcC6BqEHQCWcDgcuvfee/XKK6/o+eef16BBg/Rv//ZvrbbPzMxUZWWl/uu//kuStGrVKsXHx+vWW2/tcC0nT56UJMXFxbXa5umnn9ZPfvIT/f73v9f48ePVp08fTZ8+/aJLawACD2EHgGXmzJmjf/zjH3r++ed17733XrJtcnKybrrpJj377LMqLCzUm2++qQceeEChoaEdqsEYo7feektRUVEaOXJkq+2ioqL02GOP6f/+7/9UUlKi1atXa8+ePZo6dWqHfj6AzkfYAWCZgQMH6sc//rGmTp2q9PT0NtvPnz9fH3/8sdLT0xUaGqr777+/wzU89thjOnr0qObPn6/LLrvMq9fExsZqzpw5uuuuu3Ts2DGdOXNGkhQZGSlJXOICAgwdlAFYatmyZV63nTRpkoYMGaLc3FzNnj1b/fv39/q1X3zxhfbs2SNJqq6u1rFjx5STk6P3339fM2bMaHMwwFGjRmnKlCkaPny4evfurb/85S/atGmTRo8erZ49e0qShg0bJkl64okndNNNNyk0NFTDhw9XRESE13UC8D/CDoCgMmPGDC1ZsqTdHZM/+OADjR49Wg6HQ1FRURo4cKCuvfZa/fznP1daWlqbr7/xxhv15ptvauXKlTpz5owGDhyoe+65R4888oi7zaxZs/TBBx/oueee0y9/+UsZY1RQUKCvfvWr7d1NAH7kMN7chgAAAWLkyJFyOBzau3ev1aUACBKc2QEQ8CoqKnT48GH94Q9/0L59+7R582arSwIQRAg7AALe/v37NX78ePXt21ePPvqopk+fbnVJAIIIl7EAAICtces5AACwNcIOAACwNcIOAACwNTooS6qvr9fp06cVHR0th8NhdTkAAMALxhhVVlYqLi5OISGtn78h7Eg6ffq0EhISrC4DAAD4oLCwUPHx8a1uJ+xIio6OltTwPysmJsbiagAAgDcqKiqUkJDg/h5vDWFHcl+6iomJIewAABBk2uqCQgdlAABga4QdAABga4QdAABga4QdAABga4QdAABga4QdAABga4QdAABga4QdAABga4QdAABga4QdAABga4QdAABga4QdAABga4QdAABga4QdAABga4QdAN1LdbXkcDQs1dVWVwOgCxB2ANgDIQZAKwg7AADA1gg7AADA1gg7AADA1gg7AADA1gg7AADA1gg7AADA1gg7AADA1gg7AADA1gg7ALqvU6esrgBAFyDsALCfS4WYDRuaHg8eLK1d2/n1ALAUYQeAPXgTYoqKpMzMpuf19dLcuQ3rAdgWYQdA8PM2xOTnN2y7UF2ddPx459cIwDKEHQDBz9sQk5IihTT72AsNlZKTO7c+AJYi7AAIft6GmPh46ZlnPNusWdOwHoBtEXYABL/2hJj09KbHR49KGRmdXx8ASxF2ANiDLyFm4MDOqwdAwCDsALAfQgyACxB2AACArRF2AACArRF2AACArRF2AACArRF2AKC56mrJ4WhYqqutrgZABxF2AACArYVZXQAAdKmoKMkYq6sA0IU4swMAAGyNMzsA7IEzNgBawZkdAABga5aHnVOnTmn27Nnq27evevbsqW984xvat2+fe7sxRkuWLFFcXJx69OihcePG6ciRIx7vUVNTo8zMTPXr109RUVGaNm2aioqKunpXAABAALI07JSVlen6669XeHi43n77bR09elS/+tWv9JWvfMXdZvny5VqxYoVWrVqlvXv3yuVyadKkSaqsrHS3ycrK0ubNm5WTk6Ndu3apqqpKU6ZMUV1dnQV7BQAAAonDGOsucv/0pz/VBx98oPfff7/F7cYYxcXFKSsrSz/5yU8kNZzFiY2N1RNPPKG5c+eqvLxcl19+uTZt2qSZM2dKkk6fPq2EhARt2bJFkydPbrOOiooKOZ1OlZeXKyYmxn87CCA4VVdLvXo1PK6qaugPBCDgePv9bemZnTfffFMjR47UHXfcof79++uaa67Riy++6N5eUFCgkpISpaWluddFRkZq7Nix2r17tyRp3759On/+vEebuLg4paamuts0V1NTo4qKCo8FAFp06pTVFQDoIEvDzqeffqrVq1crJSVFf/rTn/TAAw/ohz/8oTZu3ChJKikpkSTFxsZ6vC42Nta9raSkRBEREerdu3erbZrLzs6W0+l0LwkJCf7eNQDBbMOGpseDB0tr11pXC4AOszTs1NfX65vf/KaWLl2qa665RnPnztX999+v1atXe7RzOBwez40xF61r7lJtFi9erPLycvdSWFjYsR0BYB9FRVJmZtPz+npp7tyG9QCCkqVhZ8CAARoyZIjHusGDB+uzzz6TJLlcLkm66AxNaWmp+2yPy+VSbW2tysrKWm3TXGRkpGJiYjwWAJAk5ec3BJwL1dVJx49bUw+ADrM07Fx//fU6duyYx7pPPvlEiYmJkqSkpCS5XC5t27bNvb22tlZ5eXkaM2aMJGnEiBEKDw/3aFNcXKzDhw+72wCA11JSpJBmH42hoVJysjX1AOgwS8POj370I+3Zs0dLly7V8ePH9eqrr+qFF17QvHnzJDVcvsrKytLSpUu1efNmHT58WHPmzFHPnj01a9YsSZLT6VRGRoYWLlyo7du368CBA5o9e7aGDRumiRMnWrl7AIJRfLz0zDNNz0NDpTVrGtYDCEqW3nouSX/4wx+0ePFi5efnKykpSQsWLND999/v3m6M0WOPPaY1a9aorKxMo0aN0rPPPqvU1FR3m3PnzunHP/6xXn31VZ09e1YTJkzQc88953XHY249B+DhwlvPjx2TBg2yth4ALfL2+9vysBMICDsAPHgzzg5j8QCWC4pxdgAAADobYQcAANgaYQcAANgaYQeAtaqrJYejYamutroaADZE2AEAALZG2AEAALZG2AEQ+LjUBaADCDsAAMDWCDsA0FxUlGRMw+LNYIGnTnV+TQB8RtgBAF9s2ND0ePBgae1a62oBcEmEHQBor6IiKTOz6Xl9vTR3bsN6AAGHsAMA7ZWf3xBwLlRXJx0/bk09AC6JsAMgcARL35eUFCmk2cdnaKiUnGxNPQAuibADwFrB2PclPl565pmm56Gh0po1DesBBByHMcZYXYTVvJ0iHoCfFRVJiYmel4RCQ6UTJzyDQ3W11KtXw+OqKu/ukOpsF9Z07Jg0aJC19QDdkLff35zZAWAdX/q+BOKlroEDra4AwCUQdgBYx9u+L8F4qQtAwCDsALCON31fuM0bQAcRdgBYKz296fHRo1JGhud2bvMG0EGEHQCBo6W+L9zmDaCDCDsAAhu3eQPoIMIOgMDX1qUuALgEwg6A4MJt3gDaKczqAgAgKEVFSYzJCgQFzuwAAABbI+wAAABbI+wAAABbo88OAGvR9wVAJ+PMDgAAsDXCDgB0lupqyeFoWKqrra4G6La4jAUg8HGpC0AHcGYHAADYGmEHAADYGmEHAADYGmEHAADYGmEHAADYGmEHAADYGmEHAADYGmEHQOdhUL0mp05ZXQHQbRF2AKCzbNjQ9HjwYGntWutqAboxS8POkiVL5HA4PBaXy+XebozRkiVLFBcXpx49emjcuHE6cuSIx3vU1NQoMzNT/fr1U1RUlKZNm6aioqKu3hUA8FRUJGVmNj2vr5fmzm1YD6BLWX5mZ+jQoSouLnYvhw4dcm9bvny5VqxYoVWrVmnv3r1yuVyaNGmSKisr3W2ysrK0efNm5eTkaNeuXaqqqtKUKVNUV1dnxe4AQIP8/IaAc6G6Oun4cWvqAboxy+fGCgsL8zib08gYo6eeekqPPPKIbr/9dknShg0bFBsbq1dffVVz585VeXm51q5dq02bNmnixImSpFdeeUUJCQl69913NXny5C7dFwBwS0mRQkI8A09oqJScbF1NQDdl+Zmd/Px8xcXFKSkpSXfeeac+/fRTSVJBQYFKSkqUlpbmbhsZGamxY8dq9+7dkqR9+/bp/PnzHm3i4uKUmprqbtOSmpoaVVRUeCwA4Ffx8dIzzzQ9Dw2V1qxpWA+gS1kadkaNGqWNGzfqT3/6k1588UWVlJRozJgx+vzzz1VSUiJJio2N9XhNbGyse1tJSYkiIiLUu3fvVtu0JDs7W06n070kJCT4ec8AQFJ6etPjo0eljAzragG6MUvDzk033aR///d/17BhwzRx4kT98Y9/lNRwuaqRw+HweI0x5qJ1zbXVZvHixSovL3cvhYWFHdgLAPDCwIFWVwB0W5ZfxrpQVFSUhg0bpvz8fHc/nuZnaEpLS91ne1wul2pra1VWVtZqm5ZERkYqJibGYwHQyRhnBoBFAirs1NTU6C9/+YsGDBigpKQkuVwubdu2zb29trZWeXl5GjNmjCRpxIgRCg8P92hTXFysw4cPu9sAsBDjzPgPAzQCPrP0bqxFixZp6tSpuuKKK1RaWqrHH39cFRUVSk9Pl8PhUFZWlpYuXaqUlBSlpKRo6dKl6tmzp2bNmiVJcjqdysjI0MKFC9W3b1/16dNHixYtcl8WA2Ch1saZmTyZTroAupSlYaeoqEh33XWX/vGPf+jyyy/Xddddpz179igxMVGS9PDDD+vs2bN68MEHVVZWplGjRmnr1q2Kjo52v8fKlSsVFhamGTNm6OzZs5owYYLWr1+v0NBQq3YLgHTpcWYIOwC6kMMYY6wuwmoVFRVyOp0qLy+n/w7gL0VFUmLixePMnDjRfcJOdbXUq1fD46oqKSoqMN4LsAlvv78Dqs8OABthnBnv0BcH6HSEHQCdp7uPMxMVJRnTsHAmBrAMYQdA12CcGQAWIewAAABbI+wAQLBhgEagXQg7ABAMGKAR8BlhBwACXWsDNBYVWVcTEEQIOwAQKFq7PHWpARoBtImwAwBW8ubyVEqKFNLs4zo0VEpO7tzaAJsg7ABoP28HwmOcmUvz9vIUAzQCHULYAQCrtOfyVHcfoBHoAMIOAFjF18tTDNAItAthBwCswuUpoEsQdgDASlyeAjodYQcAAgWXp4BOQdgBAAC2RtgBAAC2RtgB0DFMSgkgwBF2ALQfk1J2PQZoBHxG2AHQPkxKCSDIEHYAtA+TUgIIMmFWFwAgyDSO+nth4GFSSt81Xp4C0Gk4swPAU1uTfDLqL4AgQ9gB0H6M+gsgiBB2AHQMo/4CCHCEHQAAYGuEHQAAYGuEHQAAYGuEHQAAYGuEHQAAYGuEHQCtY5JPADZA2AHgyZtJPpmUEkAQIewAaMIknwBsiLADoAmTfAKwIcIOgCaNk3xeiEk+AQQ5wg6AJkzyGdzamsQV6KYIOwA8McknAJsh7ABoHZN8ArABwg4AALC1gAk72dnZcjgcysrKcq8zxmjJkiWKi4tTjx49NG7cOB05csTjdTU1NcrMzFS/fv0UFRWladOmqYjbZAEAwL8ERNjZu3evXnjhBQ0fPtxj/fLly7VixQqtWrVKe/fulcvl0qRJk1RZWeluk5WVpc2bNysnJ0e7du1SVVWVpkyZorq6uq7eDQAAEIAsDztVVVW6++679eKLL6p3797u9cYYPfXUU3rkkUd0++23KzU1VRs2bNCZM2f06quvSpLKy8u1du1a/epXv9LEiRN1zTXX6JVXXtGhQ4f07rvvWrVLAAAggFgedubNm6dbbrlFEydO9FhfUFCgkpISpaWluddFRkZq7Nix2r17tyRp3759On/+vEebuLg4paamutu0pKamRhUVFR4LANgK85oBbpaGnZycHO3fv1/Z2dkXbSspKZEkxcbGeqyPjY11byspKVFERITHGaHmbVqSnZ0tp9PpXhISEjq6K4B9MO9V8PJmXjOgG/Ip7BQUFHT4BxcWFmr+/Pl65ZVXdNlll7XazuFweDw3xly0rrm22ixevFjl5eXupbCwsH3FA0CgYV4zoFU+hZ3k5GSNHz9er7zyis6dO+fTD963b59KS0s1YsQIhYWFKSwsTHl5eXr66acVFhbmPqPT/AxNaWmpe5vL5VJtba3KyspabdOSyMhIxcTEeCwAENSY1wxolU9h56OPPtI111yjhQsXyuVyae7cufrf//3fdr3HhAkTdOjQIR08eNC9jBw5UnfffbcOHjyor33ta3K5XNq2bZv7NbW1tcrLy9OYMWMkSSNGjFB4eLhHm+LiYh0+fNjdBgC6BeY1A1rlU9hJTU3VihUrdOrUKa1bt04lJSW64YYbNHToUK1YsUJ///vf23yP6OhopaameixRUVHq27evUlNT3WPuLF26VJs3b9bhw4c1Z84c9ezZU7NmzZIkOZ1OZWRkaOHChdq+fbsOHDig2bNna9iwYRd1eAYAW2NeM6BVHeqgHBYWpttuu02/+c1v9MQTT+ivf/2rFi1apPj4eN1zzz0qLi7uUHEPP/ywsrKy9OCDD2rkyJE6deqUtm7dqujoaHeblStXavr06ZoxY4auv/569ezZU2+99ZZCQ0M79LMBIOgwrxnQIocxxvj64g8//FAvv/yycnJyFBUVpfT0dGVkZOj06dP6j//4D1VWVrb78pYVKioq5HQ6VV5eTv8dAMGrulrq1avhcVUVd9PB9rz9/g7z5c1XrFihdevW6dixY7r55pu1ceNG3XzzzQr51/XipKQkrVmzRldddZVv1QMAAPiJT2Fn9erVuu+++3TvvffK5XK12OaKK67QWsZ4AAAAFvMp7OTn57fZJiIiQukXXj8GAACwgE8dlNetW6ff/va3F63/7W9/qw0XjuAJAABgMZ/CzrJly9SvX7+L1vfv319Lly7tcFEAAAD+4tNlrJMnTyopKemi9YmJifrss886XBQAwAeN85oB8ODTmZ3+/fvr448/vmj9Rx99pL59+3a4KAAAAH/xKezceeed+uEPf6jc3FzV1dWprq5OO3bs0Pz583XnnXf6u0YAAACf+XQZ6/HHH9fJkyc1YcIEhYU1vEV9fb3uuece+uwAgYxB5wB0Qx0aQfmTTz7RRx99pB49emjYsGFKTEz0Z21dhhGU0W0QdgDYSKeOoNxo0KBBGjRoUEfeAgAAoFP5FHbq6uq0fv16bd++XaWlpaqvr/fYvmPHDr8UBwAA0FE+hZ358+dr/fr1uuWWW5SamiqHw+HvugAAAPzCp7CTk5Oj3/zmN7r55pv9XQ8AAIBf+XTreUREhJKTk/1dCwAAgN/5FHYWLlyoX//61+rAjVwArHbqlNUVAECX8Oky1q5du5Sbm6u3335bQ4cOVXh4uMf2N954wy/FAfCzCyfqHTxYeuEFKSPDunoAoAv4FHa+8pWv6LbbbvN3LQA6U1GRlJnZ9Ly+Xpo7V5o8WYqPt64uAOhkPoWddevW+bsOAJ0tP78h4Fyork46fpywA8DWfOqzI0lffvml3n33Xa1Zs0aVlZWSpNOnT6uqqspvxQHwo5QUKaTZr3xoqMTNBgBszqewc/LkSQ0bNky33nqr5s2bp7///e+SpOXLl2vRokV+LRCAn8THS8880/Q8NFRas4azOgBsz6ewM3/+fI0cOVJlZWXq0aOHe/1tt92m7du3+604AH6Wnt70+OhROid3R9XVksPRsFRXW10N0CV8vhvrgw8+UEREhMf6xMREneJ2ViA4DBxodQUA0CV8OrNTX1+vurq6i9YXFRUpOjq6w0UBAAD4i09hZ9KkSXrqqafczx0Oh6qqqvToo48yhQQAAAgoPl3GWrlypcaPH68hQ4bo3LlzmjVrlvLz89WvXz+99tpr/q4RAADAZz6Fnbi4OB08eFCvvfaa9u/fr/r6emVkZOjuu+/26LAMAABgNYdhgitVVFTI6XSqvLxcMTExVpcDAJ2nulrq1avh8bFj0qBB1tYDdIC3398+ndnZuHHjJbffc889vrwtAKCzMT8auiGfzuz07t3b4/n58+d15swZRUREqGfPnvrnP//ptwK7Amd2AHQLRUVSYqLntCGhodKJEwwuiaDk7fe3T3djlZWVeSxVVVU6duyYbrjhBjooA0CgutT8aICN+Tw3VnMpKSlatmyZ5s+f76+3BAD4E/OjoZvyW9iRpNDQUJ0+fdqfbwkA8Bdv50djSgnYjE8dlN98802P58YYFRcXa9WqVbr++uv9UhgAoBOkp0vz5jU8PnqUu7HQLfgUdqZPn+7x3OFw6PLLL9eNN96oX/3qV/6oCwDQ2ZgfDd2ET2GnvnkHNwAAgADl1z47AAAAgcanMzsLFizwuu2KFSt8+REAAAB+4VPYOXDggPbv368vv/xSX//61yVJn3zyiUJDQ/XNb37T3c7hcPinSgCANU6dohMzgp5Pl7GmTp2qsWPHqqioSPv379f+/ftVWFio8ePHa8qUKcrNzVVubq527NhxyfdZvXq1hg8frpiYGMXExGj06NF6++233duNMVqyZIni4uLUo0cPjRs3TkeOHPF4j5qaGmVmZqpfv36KiorStGnTVFRU5MtuAYD9RUVJxjQsUVEtt2k+pcTatV1TG9BJfJouYuDAgdq6dauGDh3qsf7w4cNKS0vzeqydt956S6GhoUr+14BWGzZs0JNPPqkDBw5o6NCheuKJJ/Sf//mfWr9+vQYNGqTHH39c7733no4dO6bo6GhJ0g9+8AO99dZbWr9+vfr27auFCxfqn//8p/bt26fQ0FCv6mC6CAD4F6aUQBDx+vvb+KBXr15m+/btF63fvn276dWrly9v6da7d2/z0ksvmfr6euNyucyyZcvc286dO2ecTqd5/vnnjTHGfPHFFyY8PNzk5OS425w6dcqEhISYd955x+ufWV5ebiSZ8vLyDtUOAEFvx47G8z6eS26u1ZUBF/H2+9uny1i33Xab7r33Xv3ud79TUVGRioqK9Lvf/U4ZGRm6/fbbfUpndXV1ysnJUXV1tUaPHq2CggKVlJQoLS3N3SYyMlJjx47V7t27JUn79u3T+fPnPdrExcUpNTXV3QYA0A5MKQEb8qmD8vPPP69FixZp9uzZOn/+fMMbhYUpIyNDTz75ZLve69ChQxo9erTOnTunXr16afPmzRoyZIg7rMTGxnq0j42N1cmTJyVJJSUlioiIuGgW9tjYWJWUlLT6M2tqalRTU+N+XlFR0a6agYBUXS316tXwuKqq9f4YwKU0TinROMpya1NKAEHEp7DTs2dPPffcc3ryySf117/+VcYYJScnK8qHD9evf/3rOnjwoL744gu9/vrrSk9PV15ennt78zu6jDFt3uXVVpvs7Gw99thj7a4VALoFppSAzXRoUMHi4mIVFxdr0KBBioqKkml/X2dFREQoOTlZI0eOVHZ2tq6++mr9+te/lsvlkqSLztCUlpa6z/a4XC7V1taqrKys1TYtWbx4scrLy91LYWFhu+sGgG6BKSVgAz6Fnc8//1wTJkzQoEGDdPPNN6u4uFiS9P3vf18LFy7sUEHGGNXU1CgpKUkul0vbtm1zb6utrVVeXp7GjBkjSRoxYoTCw8M92hQXF+vw4cPuNi2JjIx03+7euAAAAHvyKez86Ec/Unh4uD777DP17NnTvX7mzJl65513vH6fn/3sZ3r//fd14sQJHTp0SI888oh27typu+++Ww6HQ1lZWVq6dKk2b96sw4cPa86cOerZs6dmzZolSXI6ncrIyNDChQu1fft2HThwQLNnz9awYcM0ceJEX3YNAADYjE99drZu3ao//elPim/WYS0lJcXdedgbf/vb3/S9731PxcXFcjqdGj58uN555x1NmjRJkvTwww/r7NmzevDBB1VWVqZRo0Zp69at7jF2JGnlypUKCwvTjBkzdPbsWU2YMEHr16/3eowdAABgbz4NKhgdHa39+/crJSVF0dHR+uijj/S1r31Ne/fu1Xe+8x19/vnnnVFrp2FQQdjChXdjHTtGp1IAtuft97dPl7G+/e1va+PGje7nDodD9fX1evLJJzV+/Hhf3hJARzHEPwC0yKczO0ePHtW4ceM0YsQI7dixQ9OmTdORI0f0z3/+Ux988IGuvPLKzqi103BmB0GPIf4BdEOdemZnyJAh+vjjj3Xttddq0qRJqq6u1u23364DBw4EXdABbCE/3zPoSFJdnXT8uDX1AEAAaXcH5cbpGdasWcPAfECgaBziv/mZHYb4B4D2n9kJDw/X4cOH2xzFGEAXahzivxFD/AOAm0+Xse655x6tpfMjEFjS05seHz0qZWRYVwsABBCfxtmpra3VSy+9pG3btmnkyJEXzYm1YsUKvxQHwEcM8Q8Abu0KO59++qm++tWv6vDhw/rmN78pSfrkk0882nB5CwAABJJ2hZ2UlBQVFxcrNzdXUsP0EE8//fQlJ90EAACwUrv67DQfkuftt99WdXW1XwsCAADwJ586KDfyYTxCAJ0lKkoypmFp1o8O8LvqasnhaFj4oxcBrl1hx+FwXNQnhz46AAAgkLWrz44xRnPmzFFkZKQk6dy5c3rggQcuuhvrjTfe8F+FAAAAHdCusJN+4TgekmbPnu3XYgAAAPytXWFn3bp1nVUHAABAp+hQB2UAAHTqlNUVAJdE2AEAtN+GDU2PBw+WmEIIAYywAwBon6IiKTOz6Xl9vTR3bsN6IAARdgAA7ZOf3xBwLlRXJx0/bk09QBsIOwCA9klJkUKafX2EhkrJydbUA7SBsAMAaJ/4eOmZZ5qeh4ZKa9Y0rAcCEGEHANB+F467dvSolJFhXS1AGwg7AICOGTjQ6gqASyLsAAAAWyPsAAAAWyPsAAAAW2vX3FgAAEiSoqIkY6yuAvAKZ3YAAICtEXYAAICtEXYAAICtEXaAYFBdLTkcDUt1tdXVAEBQIewAAABbI+wAAABbI+wAAABbI+wAAABbI+wAwebUKasrAICgQtgBgsGGDU2PBw+W1q61rhYACDKEHSDQFRVJmZlNz+vrpblzG9YDgY5hExAACDtAoMvPbwg4F6qrk44ft6YeAAgyhB0g0KWkSCHNflVDQ6XkZGvqAYAgY2nYyc7O1re+9S1FR0erf//+mj59uo4dO+bRxhijJUuWKC4uTj169NC4ceN05MgRjzY1NTXKzMxUv379FBUVpWnTpqmIU/ywi/h46Zlnmp6Hhkpr1jSsBwC0ydKwk5eXp3nz5mnPnj3atm2bvvzyS6Wlpan6guu6y5cv14oVK7Rq1Srt3btXLpdLkyZNUmVlpbtNVlaWNm/erJycHO3atUtVVVWaMmWK6urqrNgtwP/S05seHz0qZWRYVwvgK+4khFVMACktLTWSTF5enjHGmPr6euNyucyyZcvcbc6dO2ecTqd5/vnnjTHGfPHFFyY8PNzk5OS425w6dcqEhISYd955x6ufW15ebiSZ8vJyP+4N4IWqKmOkhqWqquPtgEDz7LNN/3ZDQox56SWrK4KNePv9HVB9dsrLyyVJffr0kSQVFBSopKREaWlp7jaRkZEaO3asdu/eLUnat2+fzp8/79EmLi5Oqamp7jbN1dTUqKKiwmMBAPgZdxIiQARM2DHGaMGCBbrhhhuUmpoqSSopKZEkxcbGerSNjY11byspKVFERIR69+7dapvmsrOz5XQ63UtCQoK/dwcAwJ2ECBABE3Yeeughffzxx3rttdcu2uZwODyeG2MuWtfcpdosXrxY5eXl7qWwsND3woGuEBXVeCGg4TEQDLiTEAEiIMJOZmam3nzzTeXm5ir+gjtMXC6XJF10hqa0tNR9tsflcqm2tlZlZWWttmkuMjJSMTExHgtgOTpvwm64kxABwtKwY4zRQw89pDfeeEM7duxQUlKSx/akpCS5XC5t27bNva62tlZ5eXkaM2aMJGnEiBEKDw/3aFNcXKzDhw+72wABi2kgYHfcSYgAEGblD583b55effVV/fd//7eio6PdZ3CcTqd69Oghh8OhrKwsLV26VCkpKUpJSdHSpUvVs2dPzZo1y902IyNDCxcuVN++fdWnTx8tWrRIw4YN08SJE63cPeDSWuu8OXkyf/nCngYOtLoCdFOWhp3Vq1dLksaNG+exft26dZozZ44k6eGHH9bZs2f14IMPqqysTKNGjdLWrVsVHR3tbr9y5UqFhYVpxowZOnv2rCZMmKD169crNDS0q3YFaL9Ldd4k7ACA3ziMMcbqIqxWUVEhp9Op8vJy+u+g6xQVSYmJnoEnNFQ6cYKwA/uorpZ69Wp4XFVFB3v4lbff3wHRQRnolui8ie6AOwkRAAg7gJXovAkAnY6wAwQKOm8CQKcg7AAAAFsj7AAAAFsj7ABWovMm0HDHlsPRsFRXW10NbIiwAwAAbI2wAwAAbI2wAwAIHEyIi05A2AEAWIsJcdHJCDsAAOu0NiFuUZF1NcF2CDsAAOtcakJcwE8IOwAA66SkSCHNvopCQ6XkZGvqgS0RdgAA1mFCXHQBwg4AwFpMiItORtgBAAQOJsRFJyDsAAAAWyPsAAAAWwuzugAAQDfXOCEu0Ek4swMAAGyNsAMAAGyNsAMAAGyNsAMAAGyNsAMAAGyNsAMAAGyNsAMAAGyNsAMAAGyNsAN0lupqyeFoWKqrra4GCG78PqEDCDuAL/jgBYCgQdgBAAC2RtgBOurUKf+0AeAdfp/QToQdwBcbNjQ9HjxYWrvWtzYAvMPvEzrAYQxTzVZUVMjpdKq8vFwxMTFWl4NAV1QkJSZK9fVN60JDpRMnpPh479sA8A6/T2iFt9/fnNkB2is/3/NDV5Lq6qTjx9vXBoB3+H1CBxF2gPZKSZFCmv3qhIZKycntawPAO/w+oYMIO0B7xcdLzzzT9Dw0VFqzxvN0ujdtAHiH3yd0EH12RJ8d+KC6WurVq+HxsWPSoEG+tQHgHX6f0AL67ABdZeBA/7QB4B1+n9BOYVYXANhWVJTEiVPAP/h9QgdYembnvffe09SpUxUXFyeHw6Hf//73HtuNMVqyZIni4uLUo0cPjRs3TkeOHPFoU1NTo8zMTPXr109RUVGaNm2aioqKunAv0C01fvAa0/AYABCwLA071dXVuvrqq7Vq1aoWty9fvlwrVqzQqlWrtHfvXrlcLk2aNEmVlZXuNllZWdq8ebNycnK0a9cuVVVVacqUKaqrq+uq3QAAAAEsYDooOxwObd68WdOnT5fUcFYnLi5OWVlZ+slPfiKp4SxObGysnnjiCc2dO1fl5eW6/PLLtWnTJs2cOVOSdPr0aSUkJGjLli2aPHmyVz+bDsrwcGFHyKoqztwAQIAK+g7KBQUFKikpUVpamntdZGSkxo4dq927d0uS9u3bp/Pnz3u0iYuLU2pqqrtNS2pqalRRUeGxAAAAewrYsFNSUiJJio2N9VgfGxvr3lZSUqKIiAj17t271TYtyc7OltPpdC8JCQl+rh62wYSDABD0AjbsNHI4HB7PjTEXrWuurTaLFy9WeXm5eyksLPRLrbAJJhwEAFsJ2LDjcrkk6aIzNKWlpe6zPS6XS7W1tSorK2u1TUsiIyMVExPjsQCSGiYczMxsel5fL82d27AeQGCrrpYcjoalutrqahBAAjbsJCUlyeVyadu2be51tbW1ysvL05gxYyRJI0aMUHh4uEeb4uJiHT582N0GaBcmHAQA27F0UMGqqiodv+BLpKCgQAcPHlSfPn10xRVXKCsrS0uXLlVKSopSUlK0dOlS9ezZU7NmzZIkOZ1OZWRkaOHCherbt6/69OmjRYsWadiwYZo4caJVu4Vg1jjh4IWBhwkHgeBz6hRTSsDN0rDz4Ycfavz48e7nCxYskCSlp6dr/fr1evjhh3X27Fk9+OCDKisr06hRo7R161ZFR0e7X7Ny5UqFhYVpxowZOnv2rCZMmKD169crNDS0y/cHNtA44eC8eQ3PmXAQCB7N+9u98IKUkWFdPQgYATPOjpUYZwcemHAQCD5FRVJi4sVnZU+c4I8VGwv6cXaAgMCEg0BwoL8dLoGJQIHmmHAQCD70t8MlcGYHABD8GvvbNaK/HS5A2AEA2EN6etPjo0fpnAw3wg4AwH7ob4cLEHYAAPbQ2N/OmIbHLWGU5W6JsAMAAGyNsAMA6J5OnbK6AnQRwg4AoPtoPsry2rXW1YIuQ9gBAHQPRUVSZmbT8/p6ae7chvWwNcIOAKB7YJTlbouwAwDoHhpHWb4Qoyx3C4QddC/cdgp0X4yy3G0RdtB9cScG0P14O8oyfxjZCmEH3Qt3YgDd24UDDw4a5N1r+MMo6BF2YA8X/hX2ySctt+FODADe4g8jWyHswB68+WDiTgwA3uAPI9sh7CD4efvBxJ0YALzBH0a2Q9hB8PP2g4k7MQB4gz+MbIewg+DXng+mBx+UCgul3FzpxInW78QA0H3xh5HthFldANBhjR9M8+Y1PG/rgyk+ng8tAJf24IPStGkNZ4iTk/nMCHIOY4yxugirVVRUyOl0qry8XDExMVaXA19UV0u9ejU8PnbM+1tKAcBXfO5Yztvvby5jwR58GTsDADqC29ODBmEHAID24vb0oELYQeDzZsBAAOhK3J4eVAg7CHycKgYQaLg9PagQdhDYOFUMIBBxe3pQ4dZzBLZLnSrmQwWAlbg9PWgQdhDYGk8VXxh4OFUMIFAwbldQ4DIWAhunigEAHcSZHQQ+ThUDADqAsIPOVVTU0O8mJaX1kOJNG04VAwhW3nzGoVNxGQud57nnpIQE6cYbpcTElm8Z96YNAAQrbz/jiooaJijmTtNOwdxYYm6sTlFU1PCL3bxj8YkTTX/ZeNMGAIKVt59xzz3XNJFxSIj0wgtSRkaXlhqsmBsL1vJmdFFGIAVgZ958xrVnLDHO/viMsIPO4c3oooxACsDOvPmM8/aPvrVrG84SccnfJ4QddA5vbhnntnIAdhYf33BJKjS04XlLn3HeBKKiIun//b+mUMRI8u1Gnx3RZ+ci/rxzoKio7VvGvWkDAMGqrc+4tWsbwktdXVMgurDPTm5uwxmd5nJzpXHjOq3sYODt9zdhR4QdD2vXNv0F0VZHOW6nBAD/uFQg4maOVtFB2W686ZjW0c5r7TlVyvVjAPCf+PiGszQthRdvLoe1V1d8pwQQ24Sd5557TklJSbrssss0YsQIvf/++1aX5P0/lLbaeRMsvA0fl/pZ3naU4/oxAHStjIyGMzm5uQ3/vdSt6YHyndKeNp3N2EBOTo4JDw83L774ojl69KiZP3++iYqKMidPnvTq9eXl5UaSKS8v919RL71kTEiIMVLDf196ybd2hYVN2xuX0NCG9e1p46+fZYwxO3Z4tmlccnN9+l8FAPCTQPpO8bZNB3j7/W2LsHPttdeaBx54wGPdVVddZX7605969Xq/hx1v/6F4086bYOFNm/b84w0Nbdre0j9Mb98LANB1Au07pQu+K7z9/g76y1i1tbXat2+f0tLSPNanpaVp9+7dLb6mpqZGFRUVHotfeXs5yJt2/hqvxtuavDlV2hnXjwEAHRNo3ykBNHBs0Iedf/zjH6qrq1NsbKzH+tjYWJWUlLT4muzsbDmdTveSkJDg36K8HSzPm3beBAt/jeVw4fu11lGuUXuuHwMAOl+gfacE0MCxQR92GjkcDo/nxpiL1jVavHixysvL3UthYaF/i/H2zIe37bwJFm216YyzMd6EIgBA1wi075QAugoQ9OPs1NbWqmfPnvrtb3+r2267zb1+/vz5OnjwoPLy8tp8j04bZ8fbwfK6clA9BvADAHsLtO+UTqynWw0qOGrUKI0YMULPPfece92QIUN06623Kjs7u83XM6ggAADBx9vv77AurKnTLFiwQN/73vc0cuRIjR49Wi+88II+++wzPfDAA1aXBgAALGaLsDNz5kx9/vnn+uUvf6ni4mKlpqZqy5YtSkxMtLo0AABgMVtcxuooLmMBABB8mBsLAABAhB0AAGBzhB0AAGBrhB0AAGBrhB0AAGBrhB0AAGBrhB0AAGBrhB0AAGBrhB0AAGBrtpguoqMaB5GuqKiwuBIAAOCtxu/ttiaDIOxIqqyslCQlJCRYXAkAAGivyspKOZ3OVrczN5ak+vp6nT59WtHR0XI4HJIa0mJCQoIKCwu71XxZ7Df73R2w3+x3d9Ad9tsYo8rKSsXFxSkkpPWeOZzZkRQSEqL4+PgWt8XExNj2H8mlsN/dC/vdvbDf3Yvd9/tSZ3Qa0UEZAADYGmEHAADYGmGnFZGRkXr00UcVGRlpdSldiv1mv7sD9pv97g666363hA7KAADA1jizAwAAbI2wAwAAbI2wAwAAbI2wAwAAbI2w08ySJUvkcDg8FpfLZXVZfvfee+9p6tSpiouLk8Ph0O9//3uP7cYYLVmyRHFxcerRo4fGjRunI0eOWFOsH7W133PmzLno+F933XXWFOsn2dnZ+ta3vqXo6Gj1799f06dP17Fjxzza2PF4e7Pfdjzeq1ev1vDhw90DyY0ePVpvv/22e7sdj7XU9n7b8Vi3JDs7Ww6HQ1lZWe51dj3m7UHYacHQoUNVXFzsXg4dOmR1SX5XXV2tq6++WqtWrWpx+/Lly7VixQqtWrVKe/fulcvl0qRJk9zziAWrtvZbkr7zne94HP8tW7Z0YYX+l5eXp3nz5mnPnj3atm2bvvzyS6Wlpam6utrdxo7H25v9lux3vOPj47Vs2TJ9+OGH+vDDD3XjjTfq1ltvdX+52fFYS23vt2S/Y93c3r179cILL2j48OEe6+16zNvFwMOjjz5qrr76aqvL6FKSzObNm93P6+vrjcvlMsuWLXOvO3funHE6neb555+3oMLO0Xy/jTEmPT3d3HrrrZbU01VKS0uNJJOXl2eM6T7Hu/l+G9M9jrcxxvTu3du89NJL3eZYN2rcb2Psf6wrKytNSkqK2bZtmxk7dqyZP3++Mab7/H63hTM7LcjPz1dcXJySkpJ055136tNPP7W6pC5VUFCgkpISpaWluddFRkZq7Nix2r17t4WVdY2dO3eqf//+GjRokO6//36VlpZaXZJflZeXS5L69Okjqfsc7+b73cjOx7uurk45OTmqrq7W6NGju82xbr7fjex8rOfNm6dbbrlFEydO9FjfXY55W5gItJlRo0Zp48aNGjRokP72t7/p8ccf15gxY3TkyBH17dvX6vK6RElJiSQpNjbWY31sbKxOnjxpRUld5qabbtIdd9yhxMREFRQU6Be/+IVuvPFG7du3zxajkBpjtGDBAt1www1KTU2V1D2Od0v7Ldn3eB86dEijR4/WuXPn1KtXL23evFlDhgxxf7nZ9Vi3tt+SfY+1JOXk5Gj//v3au3fvRdu6w++3Nwg7zdx0003ux8OGDdPo0aN15ZVXasOGDVqwYIGFlXU9h8Ph8dwYc9E6u5k5c6b7cWpqqkaOHKnExET98Y9/1O23325hZf7x0EMP6eOPP9auXbsu2mbn493aftv1eH/961/XwYMH9cUXX+j1119Xenq68vLy3Nvteqxb2+8hQ4bY9lgXFhZq/vz52rp1qy677LJW29n1mHuLy1htiIqK0rBhw5Sfn291KV2m8e6zxr8IGpWWll7014HdDRgwQImJibY4/pmZmXrzzTeVm5ur+Ph493q7H+/W9rsldjneERERSk5O1siRI5Wdna2rr75av/71r21/rFvb75bY5Vjv27dPpaWlGjFihMLCwhQWFqa8vDw9/fTTCgsLcx9Xux5zbxF22lBTU6O//OUvGjBggNWldJmkpCS5XC5t27bNva62tlZ5eXkaM2aMhZV1vc8//1yFhYVBffyNMXrooYf0xhtvaMeOHUpKSvLYbtfj3dZ+t8QOx7slxhjV1NTY9li3pnG/W2KXYz1hwgQdOnRIBw8edC8jR47U3XffrYMHD+prX/tatzrmrbKqZ3SgWrhwodm5c6f59NNPzZ49e8yUKVNMdHS0OXHihNWl+VVlZaU5cOCAOXDggJFkVqxYYQ4cOGBOnjxpjDFm2bJlxul0mjfeeMMcOnTI3HXXXWbAgAGmoqLC4so75lL7XVlZaRYuXGh2795tCgoKTG5urhk9erQZOHBgUO/3D37wA+N0Os3OnTtNcXGxezlz5oy7jR2Pd1v7bdfjvXjxYvPee++ZgoIC8/HHH5uf/exnJiQkxGzdutUYY89jbcyl99uux7o1F96NZYx9j3l7EHaamTlzphkwYIAJDw83cXFx5vbbbzdHjhyxuiy/y83NNZIuWtLT040xDbcrPvroo8blcpnIyEjz7W9/2xw6dMjaov3gUvt95swZk5aWZi6//HITHh5urrjiCpOenm4+++wzq8vukJb2V5JZt26du40dj3db+23X433fffeZxMREExERYS6//HIzYcIEd9Axxp7H2phL77ddj3Vrmocdux7z9nAYY0zXnUcCAADoWvTZAQAAtkbYAQAAtkbYAQAAtkbYAQAAtkbYAQAAtkbYAQAAtkbYAQAAtkbYAQAAtkbYAQAAtkbYAQAAtkbYAWA7f//73+VyubR06VL3uv/5n/9RRESEtm7damFlAKzA3FgAbGnLli2aPn26du/erauuukrXXHONbrnlFj311FNWlwagixF2ANjWvHnz9O677+pb3/qWPvroI+3du1eXXXaZ1WUB6GKEHQC2dfbsWaWmpqqwsFAffvihhg8fbnVJACxAnx0AtvXpp5/q9OnTqq+v18mTJ60uB4BFOLMDwJZqa2t17bXX6hvf+IauuuoqrVixQocOHVJsbKzVpQHoYoQdALb04x//WL/73e/00UcfqVevXho/fryio6P1hz/8werSAHQxLmMBsJ2dO3fqqaee0qZNmxQTE6OQkBBt2rRJu3bt0urVq60uD0AX48wOAACwNc7sAAAAWyPsAAAAWyPsAAAAWyPsAAAAWyPsAAAAWyPsAAAAWyPsAAAAWyPsAAAAWyPsAAAAWyPsAAAAWyPsAAAAWyPsAAAAW/v/QhZa2qHkdvgAAAAASUVORK5CYII=",
      "text/plain": [
       "<Figure size 640x480 with 1 Axes>"
      ]
     },
     "metadata": {},
     "output_type": "display_data"
    }
   ],
>>>>>>> f6591fafeae33dc5747306d5ea480c32b3f95c73
   "source": [
    "#bins=plt.hist(dist, bins=n_bins) # bins from earlier\n",
    "yb=bins[0]  # bin edges!\n",
    "xb=bins[1]  # bin contents\n",
    "err=np.sqrt(yb)\n",
    "#Calculate bin centers (you can probably find a smarter way to do this!)\n",
    "bc=(xb[1:]-xb[:-1])/2+xb[:-1] # first minus last /2 (average) + last???\n",
    "plt.title('My Dist')\n",
    "plt.xlabel('x')\n",
    "plt.ylabel('Frequency')\n",
    "plt.errorbar(bc, yb, yerr=err, fmt=\".\", color=\"r\") # now we are basically plotting a scatterplot with errorbars. No lines though\n",
    "print(f\"mean = {np.mean(dist)}\")\n",
    "print(f\"stddev = {np.std(dist)}\")"
   ]
  },
  {
   "cell_type": "markdown",
   "id": "a6c2031d-2ee9-4534-adf5-f1bd88ba7aec",
   "metadata": {},
   "source": [
    "Discussion\n",
    "---\n",
    "\n",
    "Storing your data in histograms can greatly reduce data volumes.  For example if you generated $10^{12}$ random numbers multiple times for different distributions, you really won't want to be dealing with these huge vectors more than you have to.  A histogram of 200 bins would only require 200 floats, etc to store/display the binned data."
   ]
  },
  {
   "cell_type": "markdown",
   "id": "1e558bd5-b634-49c0-8ba8-0550c094d1c7",
   "metadata": {},
   "source": [
    "Exercise\n",
    "===\n",
    "\n",
    "There are endless varieties of plots that we can discuss.  This exercise will include a number of exerises for plotting data and distributions in a variety of ways.  The goal is to practice plot making and using online documenation and examples to get more proficient at displaying data.  You may use either Matplotlib or ROOT.  You should discuss your approaches with your classmates.  Complete your plots in the notebook cells below."
   ]
  },
  {
   "cell_type": "markdown",
   "id": "3f500752-41ad-4f94-89e5-c40522d65d9c",
   "metadata": {},
   "source": [
    "plotting 1d functions\n",
    "---\n",
    "\n",
    "Plot the functions sin(x), cos(x) over the domain [0:4*pi] on a single plot.  See [TF1](https://root.cern.ch/doc/master/classTF1.html) or [matplotlib.pyplot.plot](https://matplotlib.org/stable/api/_as_gen/matplotlib.pyplot.plot.html)"
   ]
  },
  {
   "cell_type": "code",
   "execution_count": null,
   "id": "2b002e77-7cca-4290-8eb9-78bb1613c524",
   "metadata": {},
   "outputs": [],
   "source": [
    "# solution here\n",
    "# In order to plot a function with either ROOT or matplotlib, we need a series of coordinate pairs to throw into the computer.\n",
    "# So, that's what we need to do first. Get some x-values and then plug them into the function to get y-values.\n",
    "\n",
    "from math import pi\n",
    "from numpy import sin, cos # since numpy sin and cos input numpy arrays, they can just do the calculation for all the \n",
    "# elements of the array in one go\n",
    "# domain = np.arange(0, 4 * pi, 0.01) # actually can't do arange because exclusive of endpoint\n",
    "domain = np.linspace(0, 4 * pi, 1000) # now we are including the endpoint, but put 1000 points linearly\n",
    "y1 = sin(domain.copy())\n",
    "y2 = cos(domain.copy())\n",
    "\n",
    "# now that we have x and y values, we should just plot them like above.\n",
    "\n",
    "plt.title('sin(x) and cos(x) over [0, 4pi]')\n",
    "plt.xlabel('x')\n",
    "plt.ylabel('f(x)')\n",
    "plt.plot(domain,y1); \n",
    "plt.plot(domain, y2);"
   ]
  },
  {
   "cell_type": "markdown",
   "id": "5fe692f4-0326-438d-a171-7773b2db0a72",
   "metadata": {},
   "source": [
    "Plot the functions sin(x), cos(x) over the domain [0:4*pi], but use two 'frames' such that the sign function is in the top frame and the cos function is in the bottom frame"
   ]
  },
  {
   "cell_type": "code",
   "execution_count": null,
   "id": "22b2b5d7-fcde-4ccc-be1b-06c14971c142",
   "metadata": {},
   "outputs": [],
   "source": [
    "# solution here\n",
    "# Well, we already have the sets of coordinate pairs for both sin and cos. In this case, I think the easiest way is to use matplotlib subplots.\n",
    "fig, axes = plt.subplots(2, 1, sharex = True) # might as well have them share the domain\n",
    "funcs = [y1, y2] # now have a list of lists!\n",
    "functions = [sin, cos]\n",
    "for i, ax in enumerate(axes): # instead of coding both, just loop over them. plot at the end\n",
    "    ax.plot(domain, funcs[i]) # now ax and funcs have the same index\n",
    "    ax.set_ylabel(functions[i].__name__)\n",
    "plt.xlabel('x')\n",
    "plt.suptitle('sin and cos')\n",
    "plt.show();\n",
    "\n",
    "# hopefully, this is what you meant by frames!"
   ]
  },
  {
   "cell_type": "markdown",
   "id": "b9ee8a11-f3c4-473e-af9a-b06495d3e34d",
   "metadata": {},
   "source": [
    "plotting 2d functions \n",
    "---\n",
    "\n",
    "plot the following function over the domain x: [-5:5] y: [-5:5]\n",
    "\n",
    "$f(x,y) = -20.0 * exp(-0.2 * \\sqrt{0.5 * (x^2 + y^2)}) - exp(0.5 * (cos(2 * pi * x) + cos(2 * pi * y))) + e + 20$\n",
    "\n",
    "Here e is Euler's number = exp(1)\n",
    "\n",
    "Use two plot panels.  In the upper panel display your plot as a color map.  In the lower panel display your plot as a lego plot."
   ]
  },
  {
   "cell_type": "code",
   "execution_count": null,
   "id": "05e089a2-6a75-4c19-8d86-7e770971e68f",
   "metadata": {},
   "outputs": [],
   "source": [
    "# solution here\n",
    "# well, let's start by doing the same thing. We need to have a domain for x and for y\n",
    "xdomain = np.linspace(-5, 5, 1000)\n",
    "ydomain = xdomain.copy() # not necessary, but helps if we want to change the domain later in life\n",
    "\n",
    "def f(x, y):\n",
    "    \"\"\"\n",
    "    evaulate f(x,y) at each point (x,y) in numpy array for x and y. return value of f at that series of points\n",
    "    need x and y to be the same size.\n",
    "    \"\"\"\n",
    "    from numpy import exp, cos, pi, sqrt, e\n",
    "    return -20.0 * exp(-0.2 * sqrt(0.5 * (x ** 2 + y ** 2) ) ) - exp(0.5 * (cos(2 * pi * x) + cos(2 * pi * y) ) ) + e + 20\n",
    "\n",
    "# if you want to make a contour plot in matplotlib, you need a \"meshmap\" or something like that. SO, I need to convert my domains\n",
    "# to be in the meshmap format\n",
    "# if you want a \"lego plot\", this is basically a surface plot. \n",
    "\n",
    "X, Y = np.meshgrid(xdomain, ydomain, indexing = 'xy')\n",
    "Z = f(X, Y)\n",
    "X.shape, Y.shape, Z.shape\n",
    "# now make the plot\n",
    "fig = plt.figure(figsize = (10, 15))\n",
    "fig.suptitle(\"Fancy 2D function!\")\n",
    "ax = fig.add_subplot(2, 1, 1) # row column index\n",
    "ax.contourf(X, Y, Z)\n",
    "ax.set_xlabel(\"x\")\n",
    "ax.set_ylabel(\"y\")\n",
    "\n",
    "ax = fig.add_subplot(2, 1, 2, projection = '3d') # now the second row in the figure!\n",
    "ax.plot_surface(X, Y, Z)\n",
    "ax.set_xlabel(\"x\")\n",
    "ax.set_ylabel(\"y\")\n",
    "plt.tight_layout()\n",
    "plt.show();\n",
    "\n",
    "# Later, we could add in nice looking colors or titles and axis labels if we wanted to!"
   ]
  },
  {
   "cell_type": "markdown",
   "id": "f6307cc3-c53f-4184-af3a-b80f84f028e7",
   "metadata": {},
   "source": [
    "1D histograms\n",
    "---\n",
    "\n",
    "Generate three sets of 1000 random numbers:\n",
    "- set1 = Normal distribution with mean of 5.0 and stdev of sqrt(5)\n",
    "- set2 = Poisson distribution with mean of 5.0\n",
    "- set3 = binomial distribution for (n=10, p=0.5)\n",
    "\n",
    "Display all of these histograms on a single plot.  Clearly labeling your data."
   ]
  },
  {
   "cell_type": "code",
   "execution_count": null,
   "id": "342a39f5-fdf9-4eb8-8f04-3e23399b880c",
   "metadata": {},
   "outputs": [],
   "source": [
    "# solution here\n",
    "# Since it's histograms, I think ROOT will be superior here.\n",
    "\n",
    "# My original method of just making a random number for each iteration of the\n",
    "# loop didn't work. I talked with Tristen, and he recommended to just make all\n",
    "# the random numbers in the beginning. Then, you can just pass them into the\n",
    "# histograms using looping like before.\n",
    "\n",
    "N_points = 1000\n",
    "n_bins = 20\n",
    "mean=5.\n",
    "sigma=math.sqrt(5)\n",
    "xmin=0 # need limits to cut off the distribution.\n",
    "xmax=10\n",
    "\n",
    "h1=r.TH1F(\"normal\",\"Normal;x;Frequency\",n_bins,xmin,xmax)  # create a histogram\n",
    "h2=r.TH1F(\"poisson\",\"Poisson;x;Frequency\",n_bins,xmin,xmax)\n",
    "h3=r.TH1F(\"binomial\",\"Binomial;x;Frequency\",n_bins,xmin,xmax)\n",
    "\n",
    "# now to make the random numbers using numpy\n",
    "# Create a random number generator with a fixed seed for reproducibility\n",
    "rng = np.random.default_rng(19680801) # seed is random if blank\n",
    "\n",
    "# Generate a normal distributions\n",
    "normal = rng.normal(mean, sigma, size = N_points)\n",
    "poisson = rng.poisson(mean, size = N_points)\n",
    "binomial = rng.binomial(10., .5, size = N_points)\n",
    "\n",
    "for i in range(N_points):   # fill this histogram\n",
    "    h1.Fill(normal[i])\n",
    "    h2.Fill(poisson[i])\n",
    "    h3.Fill(binomial[i])\n",
    "h3.Draw()\n",
    "h2.Draw(\"same\")\n",
    "h1.Draw(\"same\")\n",
    "# do for each histogram you want\n",
    "\n",
    "tc.Draw()\n",
    "\n",
    "# now, go back and figure out how to name all of these guys. We want them to have different colors, labels, stuff in the legend, blah, blah, blah..."
   ]
  },
  {
   "cell_type": "markdown",
   "id": "7af0c817-a27e-4a1b-9155-f71f583c9564",
   "metadata": {},
   "source": [
    "repeat with\n",
    "\n",
    "- set1 = Normal distribution with mean of 10.0 and stdev of sqrt(10)\n",
    "- set2 = Poisson distribution with mean of 10.0\n",
    "- set3 = binomial distribution for (n=20, p=0.5)"
   ]
  },
  {
   "cell_type": "markdown",
   "id": "ce7c8660-ec43-4a44-b547-6b798b7997ff",
   "metadata": {},
   "source": [
    "Generate at least 10000 random numbers according to a Normal distribution the mean=100 and stdev=10.  Plot the results in  a histogram, then overlay the functional form of the Normal distribution with your data.  Be careful to think about the correct noemallization of the Gaussian curve.  This will depend on the number of events you generate and the size of your bins."
   ]
  },
  {
   "cell_type": "code",
   "execution_count": null,
   "id": "f8bd9585-d16c-4285-bd1c-3ae7407f77be",
   "metadata": {},
   "outputs": [],
   "source": [
    "# solution here\n",
    "tc = r.TCanvas();\n",
    "\n",
    "mean = 10.0\n",
    "stdev = math.sqrt(10)\n",
    "n = 20\n",
    "p = 0.5\n",
    "\n",
    "# n_bins = 20\n",
    "xmin = 0\n",
    "xmax = 20\n",
    "\n",
    "rng = np.random.default_rng(8242025) #today's date for fun\n",
    "N_points = 10000 # ten thousand\n",
    "\n",
    "set1 = rng.normal(mean, stdev, size = N_points)\n",
    "set2 = rng.poisson(mean, size = N_points)\n",
    "set3 = rng.binomial(n, p, size = N_points)\n",
    "\n",
    "h1=r.TH1F(\"normal\",\"Normal;x;Frequency\",n_bins,xmin,xmax)\n",
    "h2=r.TH1F(\"poisson\",\"Poisson;x;Frequency\",n_bins,xmin,xmax)\n",
    "h3=r.TH1F(\"binomial\",\"Binomial;x;Frequency\",n_bins,xmin,xmax)\n",
    "\n",
    "for i in range(N_points):   # fill this histogram\n",
    "    h1.Fill(set1[i])\n",
    "    h2.Fill(set2[i])\n",
    "    h3.Fill(set3[i])\n",
    "h3.Draw()\n",
    "h2.Draw(\"same\")\n",
    "h1.Draw(\"same\")\n",
    "# do for each histogram you want\n",
    "\n",
    "tc.Draw()"
   ]
  },
  {
   "cell_type": "markdown",
   "id": "cf263b7d-2701-4a9d-a959-3f3de42e37ab",
   "metadata": {},
   "source": [
    "Repeat, but show errors bars on your histogram along with the functional form overlay."
   ]
  },
  {
   "cell_type": "markdown",
   "id": "3d02ab35-6a08-4240-80cc-8d6749d5fa3a",
   "metadata": {},
   "source": [
    "2D histograms\n",
    "---\n",
    "\n",
    "Generate a set of random numbers in pairs, according to the following:\n",
    "\n",
    "- x_i is drawn from a Normal distribution with mean of 100, and sigma of 15, eg Gaussian(100,15)\n",
    "- y_i = Gaussian (x_i,5), eg y is correlated with x\n",
    "\n",
    "Begin by making a 2d color map (aka heat map) plot showing the density distribution.  Generate enough numbers to make the plot reasonably smooth.\n",
    "\n",
    "Use two plot panels.  In the upper panel display your plot as a color map.  In the lower panel display your plot as a lego plot."
   ]
  },
  {
   "cell_type": "code",
   "execution_count": null,
   "id": "c42bab7b-1157-4b29-bc11-effebb93ed09",
   "metadata": {
    "tags": []
   },
   "outputs": [],
   "source": [
    "# solution here"
   ]
  }
 ],
 "metadata": {
  "kernelspec": {
<<<<<<< HEAD
   "display_name": "Python 3",
=======
   "display_name": "PHYS56xx Env",
>>>>>>> f6591fafeae33dc5747306d5ea480c32b3f95c73
   "language": "python",
   "name": "phys56xx"
  },
  "language_info": {
   "codemirror_mode": {
    "name": "ipython",
    "version": 3
   },
   "file_extension": ".py",
   "mimetype": "text/x-python",
   "name": "python",
   "nbconvert_exporter": "python",
   "pygments_lexer": "ipython3",
<<<<<<< HEAD
   "version": "3.11.11"
=======
   "version": "3.10.15"
>>>>>>> f6591fafeae33dc5747306d5ea480c32b3f95c73
  }
 },
 "nbformat": 4,
 "nbformat_minor": 5
}
